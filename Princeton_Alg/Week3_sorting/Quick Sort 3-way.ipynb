{
 "cells": [
  {
   "cell_type": "markdown",
   "metadata": {},
   "source": [
    "## Quick Sort 3-way Partition"
   ]
  },
  {
   "cell_type": "code",
   "execution_count": 33,
   "metadata": {
    "collapsed": true
   },
   "outputs": [],
   "source": [
    "def swap(arr, i, j):\n",
    "    temp = arr[i]\n",
    "    arr[i] = arr[j]\n",
    "    arr[j] = temp\n",
    "    \n",
    "def qsort_3_way (arr, lo, hi):\n",
    "    if len(arr) <= 1:\n",
    "        return\n",
    "    \n",
    "    \n",
    "    if hi <= lo :\n",
    "        return\n",
    "    \n",
    "    # partition\n",
    "    pivot = arr[lo]\n",
    "    i = lo\n",
    "    lt = lo\n",
    "    gt = hi\n",
    "    \n",
    "    while (i <= gt):\n",
    "        if arr[i] < pivot:\n",
    "            # swap a[i] and lt \n",
    "            # advance both lt and i as we know\n",
    "            # the current value of i is indexed with item smaller then pivot\n",
    "            swap(arr, i, lt)\n",
    "            lt += 1\n",
    "            i += 1\n",
    "        elif arr[i] > pivot:\n",
    "            # swap gt with arr[i] and move gt to new position\n",
    "            # we are not moving i forward as we dont know if \n",
    "            # the new value in arr[i] is in with area\n",
    "            # need to got back the loop and check it\n",
    "            swap(arr, i, gt)\n",
    "            gt -= 1\n",
    "        else:\n",
    "            # if we saw an equal item just move i forward\n",
    "            i += 1\n",
    "    \n",
    "    # sort first third of the array from lo to lt \n",
    "    print(arr,lo, lt, gt, hi, pivot)\n",
    "    qsort_3_way(arr, lo, lt - 1)\n",
    "    qsort_3_way(arr, gt + 1, hi)\n",
    "        "
   ]
  },
  {
   "cell_type": "code",
   "execution_count": 35,
   "metadata": {},
   "outputs": [
    {
     "name": "stdout",
     "output_type": "stream",
     "text": [
      "[3, 4, 3, 5, 5, 5, 5, 5, 5, 5, 5, 5, 5, 6, 45, 78, 67, 32, 99, 9, 7, 6, 6, 6, 8, 9, 120, 45] 0 3 12 27 5\n",
      "[3, 3, 4, 5, 5, 5, 5, 5, 5, 5, 5, 5, 5, 6, 45, 78, 67, 32, 99, 9, 7, 6, 6, 6, 8, 9, 120, 45] 0 0 1 2 3\n",
      "[3, 3, 4, 5, 5, 5, 5, 5, 5, 5, 5, 5, 5, 6, 6, 6, 6, 99, 9, 7, 32, 67, 78, 8, 9, 120, 45, 45] 13 13 16 27 6\n",
      "[3, 3, 4, 5, 5, 5, 5, 5, 5, 5, 5, 5, 5, 6, 6, 6, 6, 9, 7, 32, 67, 78, 8, 9, 45, 45, 99, 120] 17 26 26 27 99\n",
      "[3, 3, 4, 5, 5, 5, 5, 5, 5, 5, 5, 5, 5, 6, 6, 6, 6, 7, 8, 9, 9, 78, 67, 45, 45, 32, 99, 120] 17 19 20 25 9\n",
      "[3, 3, 4, 5, 5, 5, 5, 5, 5, 5, 5, 5, 5, 6, 6, 6, 6, 7, 8, 9, 9, 78, 67, 45, 45, 32, 99, 120] 17 17 17 18 7\n",
      "[3, 3, 4, 5, 5, 5, 5, 5, 5, 5, 5, 5, 5, 6, 6, 6, 6, 7, 8, 9, 9, 67, 45, 45, 32, 78, 99, 120] 21 25 25 25 78\n",
      "[3, 3, 4, 5, 5, 5, 5, 5, 5, 5, 5, 5, 5, 6, 6, 6, 6, 7, 8, 9, 9, 45, 45, 32, 67, 78, 99, 120] 21 24 24 24 67\n",
      "[3, 3, 4, 5, 5, 5, 5, 5, 5, 5, 5, 5, 5, 6, 6, 6, 6, 7, 8, 9, 9, 32, 45, 45, 67, 78, 99, 120] 21 22 23 23 45\n",
      "[3, 3, 4, 5, 5, 5, 5, 5, 5, 5, 5, 5, 5, 6, 6, 6, 6, 7, 8, 9, 9, 32, 45, 45, 67, 78, 99, 120]\n"
     ]
    }
   ],
   "source": [
    "a = [5,3,45,7,4,3,5,9,5,32,5,67,78,45,6,5,5,5,5,99,5,5,6,6,6,8,9,120]\n",
    "qsort_3_way(a,0, len(a) -1 )\n",
    "print (a)"
   ]
  },
  {
   "cell_type": "code",
   "execution_count": null,
   "metadata": {
    "collapsed": true
   },
   "outputs": [],
   "source": []
  },
  {
   "cell_type": "code",
   "execution_count": null,
   "metadata": {
    "collapsed": true
   },
   "outputs": [],
   "source": []
  }
 ],
 "metadata": {
  "kernelspec": {
   "display_name": "Python 3",
   "language": "python",
   "name": "python3"
  },
  "language_info": {
   "codemirror_mode": {
    "name": "ipython",
    "version": 3
   },
   "file_extension": ".py",
   "mimetype": "text/x-python",
   "name": "python",
   "nbconvert_exporter": "python",
   "pygments_lexer": "ipython3",
   "version": "3.6.1"
  }
 },
 "nbformat": 4,
 "nbformat_minor": 2
}
