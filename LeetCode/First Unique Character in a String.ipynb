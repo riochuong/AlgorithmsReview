{
 "cells": [
  {
   "cell_type": "markdown",
   "metadata": {},
   "source": [
    "Given a string, find the first non-repeating character in it and return it's index. If it doesn't exist, return -1."
   ]
  },
  {
   "cell_type": "code",
   "execution_count": 2,
   "metadata": {
    "collapsed": false
   },
   "outputs": [],
   "source": [
    "class Solution:\n",
    "    def firstUniqChar(self, s):\n",
    "        \"\"\"\n",
    "        :type s: str\n",
    "        :rtype: int\n",
    "        \"\"\"\n",
    "        charMap = {}\n",
    "        if len(s) == 0:\n",
    "            return 0\n",
    "        # traverse hash\n",
    "        for c in  s:\n",
    "            if c in charMap:\n",
    "                charMap[c] += 1\n",
    "            else:\n",
    "                charMap[c] = 1\n",
    "        \n",
    "       # traverse count \n",
    "        for i,c in enumerate(s):\n",
    "            if charMap[c] == 1:\n",
    "                return i\n",
    "        return -1"
   ]
  },
  {
   "cell_type": "code",
   "execution_count": 6,
   "metadata": {
    "collapsed": true
   },
   "outputs": [],
   "source": [
    "class Solution:\n",
    "    def firstUniqChar(self, s):\n",
    "        \"\"\"\n",
    "        :type s: str\n",
    "        :rtype: int\n",
    "        \"\"\"\n",
    "        charMap = {}\n",
    "        if len(s) == 0:\n",
    "            return -1\n",
    "        # traverse hash\n",
    "        for i,c in  enumerate(s):\n",
    "            if c in charMap:\n",
    "                charMap[c] = (charMap[c][0], charMap[c][1] + 1)\n",
    "            else:\n",
    "                charMap[c] = (i, 1)\n",
    "        \n",
    "       # traverse count\n",
    "        currentMinIdx = -1\n",
    "        print(charMap)\n",
    "        for c in charMap:\n",
    "            \n",
    "            # if count is 1\n",
    "            print(charMap[c][1])\n",
    "            if charMap[c][1] == 1:\n",
    "                if currentMinIdx < 0:\n",
    "                    currentMinIdx = charMap[c][0]\n",
    "                elif currentMinIdx > charMap[c][0]:\n",
    "                    currentMinIdx = charMap[c][0]\n",
    "        return currentMinIdx"
   ]
  },
  {
   "cell_type": "code",
   "execution_count": 7,
   "metadata": {
    "collapsed": true
   },
   "outputs": [],
   "source": [
    "soln = Solution()"
   ]
  },
  {
   "cell_type": "code",
   "execution_count": 8,
   "metadata": {
    "collapsed": false
   },
   "outputs": [
    {
     "name": "stdout",
     "output_type": "stream",
     "text": [
      "{'l': (0, 1), 'e': (1, 3), 't': (3, 1), 'c': (4, 1), 'o': (5, 1), 'd': (6, 1)}\n",
      "1\n",
      "3\n",
      "1\n",
      "1\n",
      "1\n",
      "1\n"
     ]
    },
    {
     "data": {
      "text/plain": [
       "0"
      ]
     },
     "execution_count": 8,
     "metadata": {},
     "output_type": "execute_result"
    }
   ],
   "source": [
    "soln.firstUniqChar('leetcode')"
   ]
  },
  {
   "cell_type": "code",
   "execution_count": null,
   "metadata": {
    "collapsed": true
   },
   "outputs": [],
   "source": []
  }
 ],
 "metadata": {
  "anaconda-cloud": {},
  "kernelspec": {
   "display_name": "Python [conda env:aind]",
   "language": "python",
   "name": "conda-env-aind-py"
  },
  "language_info": {
   "codemirror_mode": {
    "name": "ipython",
    "version": 3
   },
   "file_extension": ".py",
   "mimetype": "text/x-python",
   "name": "python",
   "nbconvert_exporter": "python",
   "pygments_lexer": "ipython3",
   "version": "3.6.0"
  }
 },
 "nbformat": 4,
 "nbformat_minor": 1
}
