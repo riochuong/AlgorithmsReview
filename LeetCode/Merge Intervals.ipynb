{
 "cells": [
  {
   "cell_type": "raw",
   "metadata": {},
   "source": [
    "Given a collection of intervals, merge all overlapping intervals.\n",
    "\n",
    "For example,\n",
    "Given [1,3],[2,6],[8,10],[15,18],\n",
    "return [1,6],[8,10],[15,18].\n",
    "\n"
   ]
  },
  {
   "cell_type": "code",
   "execution_count": 66,
   "metadata": {
    "collapsed": true
   },
   "outputs": [],
   "source": [
    "# Definition for an interval.\n",
    "class Interval(object):\n",
    "    def __init__(self, s=0, e=0):\n",
    "        self.start = s\n",
    "        self.end = e\n",
    "\n",
    "class Solution(object):\n",
    "    def merge(self, intervals):\n",
    "        \"\"\"\n",
    "        :type intervals: List[Interval]\n",
    "        :rtype: List[Interval]\n",
    "        \"\"\"\n",
    "        # make sure to pass smaller start interval to interval1\n",
    "        def mergeInterval(interval1, interval2):\n",
    "            #print(interval2.end)\n",
    "            if (interval2.start <= interval1.end):\n",
    "                return Interval(interval1.start, max(interval2.end, interval1.end))\n",
    "            return None\n",
    "            \n",
    "        \n",
    "        # sanity check\n",
    "        if (not intervals) or (len(intervals) == 0):\n",
    "            return []\n",
    "        # list for new interval merged\n",
    "        newMergeList = []\n",
    "        \n",
    "        # sort the list by start value\n",
    "        intervals = sorted(intervals, key=lambda interval: interval.start)\n",
    "        \n",
    "        #print(intervals)\n",
    "        # traverse through the interval and merge\n",
    "        prevInterval = None\n",
    "        for interval in intervals:\n",
    "            if not prevInterval:\n",
    "                prevInterval = interval\n",
    "            else:\n",
    "                #print(type(prevInterval))\n",
    "                newInterval = mergeInterval(prevInterval, interval)\n",
    "                if not newInterval:\n",
    "                    # interval not overlapped\n",
    "                    newMergeList.append(prevInterval)\n",
    "                    prevInterval = interval\n",
    "                else:\n",
    "                    prevInterval = newInterval\n",
    "        # make sure append the last merged interval\n",
    "        if prevInterval:\n",
    "            newMergeList.append(prevInterval)\n",
    "        \n",
    "        return newMergeList\n",
    "                    \n",
    "        "
   ]
  },
  {
   "cell_type": "code",
   "execution_count": 67,
   "metadata": {
    "collapsed": true
   },
   "outputs": [],
   "source": [
    "soln = Solution()"
   ]
  },
  {
   "cell_type": "code",
   "execution_count": 68,
   "metadata": {
    "collapsed": true
   },
   "outputs": [],
   "source": [
    "listToMerge = [Interval(1,3),Interval(2,6),Interval(8,10),Interval(15,18)]\n",
    "listToMerge2 = [Interval(1,4),Interval(4,5)]\n",
    "listToMerge3 = [Interval(1,3),Interval(2,6),Interval(8,10),Interval(15,18)]"
   ]
  },
  {
   "cell_type": "code",
   "execution_count": 69,
   "metadata": {
    "collapsed": false
   },
   "outputs": [
    {
     "name": "stdout",
     "output_type": "stream",
     "text": [
      "[ 1 , 6 ]\n",
      "[ 8 , 10 ]\n",
      "[ 15 , 18 ]\n"
     ]
    }
   ],
   "source": [
    "for interval in soln.merge(listToMerge3):\n",
    "    print(\"[\",interval.start,\",\",interval.end,\"]\")"
   ]
  },
  {
   "cell_type": "code",
   "execution_count": null,
   "metadata": {
    "collapsed": true
   },
   "outputs": [],
   "source": []
  },
  {
   "cell_type": "code",
   "execution_count": null,
   "metadata": {
    "collapsed": true
   },
   "outputs": [],
   "source": []
  },
  {
   "cell_type": "code",
   "execution_count": null,
   "metadata": {
    "collapsed": true
   },
   "outputs": [],
   "source": []
  }
 ],
 "metadata": {
  "anaconda-cloud": {},
  "kernelspec": {
   "display_name": "Python [conda env:aind]",
   "language": "python",
   "name": "conda-env-aind-py"
  },
  "language_info": {
   "codemirror_mode": {
    "name": "ipython",
    "version": 3
   },
   "file_extension": ".py",
   "mimetype": "text/x-python",
   "name": "python",
   "nbconvert_exporter": "python",
   "pygments_lexer": "ipython3",
   "version": "3.6.0"
  }
 },
 "nbformat": 4,
 "nbformat_minor": 1
}
