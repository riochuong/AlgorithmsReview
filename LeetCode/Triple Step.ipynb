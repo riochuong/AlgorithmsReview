{
 "cells": [
  {
   "cell_type": "markdown",
   "metadata": {},
   "source": [
    "A child can hope up a staircase with n steps and can hope either 1, 2, 3 steps at a time. How many possible ways the child can do this ?"
   ]
  },
  {
   "cell_type": "code",
   "execution_count": null,
   "metadata": {
    "collapsed": true
   },
   "outputs": [],
   "source": []
  },
  {
   "cell_type": "code",
   "execution_count": 43,
   "metadata": {
    "collapsed": true
   },
   "outputs": [],
   "source": [
    "class Solution (object) :\n",
    "    def climbStairs (self, n):\n",
    "        \"\"\"\n",
    "            n: number of steps up the stair\n",
    "            @rtype: number of ways\n",
    "        \"\"\"\n",
    "        # array to keep track number of way to climb up certain number of steps\n",
    "        if n <= 1:\n",
    "            return 1\n",
    "        waysToClimb = [0 for i in range(n + 1)]\n",
    "        waysToClimb[0] = 1\n",
    "        waysToClimb[1] = 1\n",
    "        waysToClimb[2] = 2 # (1+1) and (2)\n",
    "        for i in range(3, n+1):\n",
    "            totalWayToClimb = 0\n",
    "            for possible in range(i - 3, i - 1 + 1):\n",
    "                 totalWayToClimb += waysToClimb[possible]\n",
    "            waysToClimb[i] = totalWayToClimb\n",
    "        return waysToClimb[n]\n",
    "        "
   ]
  },
  {
   "cell_type": "code",
   "execution_count": 44,
   "metadata": {
    "collapsed": true
   },
   "outputs": [],
   "source": [
    "soln = Solution()\n"
   ]
  },
  {
   "cell_type": "code",
   "execution_count": 45,
   "metadata": {
    "collapsed": false
   },
   "outputs": [
    {
     "data": {
      "text/plain": [
       "1"
      ]
     },
     "execution_count": 45,
     "metadata": {},
     "output_type": "execute_result"
    }
   ],
   "source": [
    "soln.climbStairs(1)"
   ]
  },
  {
   "cell_type": "code",
   "execution_count": 46,
   "metadata": {
    "collapsed": false
   },
   "outputs": [
    {
     "data": {
      "text/plain": [
       "1"
      ]
     },
     "execution_count": 46,
     "metadata": {},
     "output_type": "execute_result"
    }
   ],
   "source": [
    "soln.climbStairs(0)"
   ]
  },
  {
   "cell_type": "code",
   "execution_count": 49,
   "metadata": {
    "collapsed": false
   },
   "outputs": [
    {
     "data": {
      "text/plain": [
       "13"
      ]
     },
     "execution_count": 49,
     "metadata": {},
     "output_type": "execute_result"
    }
   ],
   "source": [
    "soln.climbStairs(5)"
   ]
  },
  {
   "cell_type": "code",
   "execution_count": null,
   "metadata": {
    "collapsed": true
   },
   "outputs": [],
   "source": []
  }
 ],
 "metadata": {
  "kernelspec": {
   "display_name": "Python 3",
   "language": "python",
   "name": "python3"
  },
  "language_info": {
   "codemirror_mode": {
    "name": "ipython",
    "version": 3
   },
   "file_extension": ".py",
   "mimetype": "text/x-python",
   "name": "python",
   "nbconvert_exporter": "python",
   "pygments_lexer": "ipython3",
   "version": "3.6.0"
  }
 },
 "nbformat": 4,
 "nbformat_minor": 2
}
