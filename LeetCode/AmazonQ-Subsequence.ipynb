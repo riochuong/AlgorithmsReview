{
 "cells": [
  {
   "cell_type": "code",
   "execution_count": null,
   "metadata": {
    "collapsed": true
   },
   "outputs": [],
   "source": []
  },
  {
   "cell_type": "code",
   "execution_count": 1,
   "metadata": {
    "collapsed": true
   },
   "outputs": [],
   "source": [
    "def subSequenceTags(targetList, availableTagList):\n",
    "    # WRITE YOUR CODE HERE\n",
    "    tag_index_table = {}\n",
    "    # add tag to hash table\n",
    "    for tag in targetList:\n",
    "        tag_index_table[tag] = []\n",
    "    # add index to list \n",
    "    for i,target in enumerate(availableTagList):\n",
    "        if target in tag_index_table:\n",
    "            tag_index_table[target].append(i) \n",
    "    \n",
    "    # generate all possible combos\n",
    "    \n",
    "    \n",
    "    return res\n",
    "                \n",
    "                    \n",
    "                    \n",
    "                "
   ]
  },
  {
   "cell_type": "code",
   "execution_count": 2,
   "metadata": {
    "collapsed": false
   },
   "outputs": [
    {
     "data": {
      "text/plain": [
       "[0]"
      ]
     },
     "execution_count": 2,
     "metadata": {},
     "output_type": "execute_result"
    }
   ],
   "source": [
    "subSequenceTags(['2abc', 'bcd', 'cab'], ['dbc','2abc','cab','bcd','bcb'])"
   ]
  },
  {
   "cell_type": "markdown",
   "metadata": {},
   "source": []
  },
  {
   "cell_type": "code",
   "execution_count": null,
   "metadata": {
    "collapsed": true
   },
   "outputs": [],
   "source": []
  }
 ],
 "metadata": {
  "anaconda-cloud": {},
  "kernelspec": {
   "display_name": "Python [conda env:aind]",
   "language": "python",
   "name": "conda-env-aind-py"
  },
  "language_info": {
   "codemirror_mode": {
    "name": "ipython",
    "version": 3
   },
   "file_extension": ".py",
   "mimetype": "text/x-python",
   "name": "python",
   "nbconvert_exporter": "python",
   "pygments_lexer": "ipython3",
   "version": "3.6.0"
  }
 },
 "nbformat": 4,
 "nbformat_minor": 1
}
