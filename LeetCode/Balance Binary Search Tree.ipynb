{
 "cells": [
  {
   "cell_type": "code",
   "execution_count": 12,
   "metadata": {
    "collapsed": true
   },
   "outputs": [],
   "source": [
    "# Definition for a binary tree node.\n",
    "class TreeNode:\n",
    "    def __init__(self, x):\n",
    "        self.val = x\n",
    "        self.left = None\n",
    "        self.right = None\n",
    "\n",
    "# \n",
    "# Using recursive solution to \n",
    "# traverse down the tree to \n",
    "# check each subtree height \n",
    "#\n",
    "class Solution:\n",
    "    def isBalanced(self, root):\n",
    "        \"\"\"\n",
    "        :type root: TreeNode\n",
    "        :rtype: bool\n",
    "        \"\"\"\n",
    "        def findHeight (node):\n",
    "            \"\"\"\n",
    "            find height of the tree \n",
    "            @rtype: height of the tree rooted at node\n",
    "            \"\"\"\n",
    "            if not node:\n",
    "                return 0\n",
    "            leftHeight = findHeight(node.left)\n",
    "            rightHeight = findHeight(node.right)\n",
    "            # check if the sub tree is balanced\n",
    "            if (leftHeight < 0) or (rightHeight < 0):\n",
    "                return -1\n",
    "            if abs(leftHeight - rightHeight) > 1:\n",
    "                return -1\n",
    "            return max(leftHeight, rightHeight) + 1\n",
    "            \n",
    "        # check if each sub tree is balanced\n",
    "        height = findHeight(root)\n",
    "        # if either of the sub tree is not balanced \n",
    "        return not (height < 0)\n",
    "        "
   ]
  },
  {
   "cell_type": "code",
   "execution_count": 13,
   "metadata": {
    "collapsed": true
   },
   "outputs": [],
   "source": [
    "soln = Solution()"
   ]
  },
  {
   "cell_type": "code",
   "execution_count": 14,
   "metadata": {
    "collapsed": false
   },
   "outputs": [],
   "source": [
    "# sanity test balanced case \n",
    "root = TreeNode(0)\n",
    "root.left = TreeNode(1)\n",
    "root.right = TreeNode(2)\n",
    "\n",
    "# left sub tree\n",
    "root.left.left = TreeNode(3)\n",
    "root.left.right = TreeNode(4)\n",
    "root.left.left.left = TreeNode(5)\n",
    "root.left.left.right = TreeNode(6)\n",
    "root.left.right.right = TreeNode(7)\n",
    "\n",
    "# right sub tree\n",
    "root.right.left = TreeNode(8)\n",
    "root.right.right = TreeNode(9)\n",
    "\n",
    "# solution\n",
    "assert(soln.isBalanced(root))"
   ]
  },
  {
   "cell_type": "code",
   "execution_count": 15,
   "metadata": {
    "collapsed": true
   },
   "outputs": [],
   "source": [
    "# sanity test balanced case \n",
    "root = TreeNode(0)\n",
    "root.left = TreeNode(1)\n",
    "root.right = TreeNode(2)\n",
    "\n",
    "# left sub tree\n",
    "root.left.left = TreeNode(3)\n",
    "root.left.left.left = TreeNode(4)\n",
    "\n",
    "# solution\n",
    "assert(not soln.isBalanced(root))"
   ]
  },
  {
   "cell_type": "code",
   "execution_count": null,
   "metadata": {
    "collapsed": true
   },
   "outputs": [],
   "source": []
  },
  {
   "cell_type": "code",
   "execution_count": null,
   "metadata": {
    "collapsed": true
   },
   "outputs": [],
   "source": []
  }
 ],
 "metadata": {
  "anaconda-cloud": {},
  "kernelspec": {
   "display_name": "Python [conda env:aind]",
   "language": "python",
   "name": "conda-env-aind-py"
  },
  "language_info": {
   "codemirror_mode": {
    "name": "ipython",
    "version": 3
   },
   "file_extension": ".py",
   "mimetype": "text/x-python",
   "name": "python",
   "nbconvert_exporter": "python",
   "pygments_lexer": "ipython3",
   "version": "3.6.0"
  }
 },
 "nbformat": 4,
 "nbformat_minor": 1
}
