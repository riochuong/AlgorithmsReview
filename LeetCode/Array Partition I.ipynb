{
 "cells": [
  {
   "cell_type": "markdown",
   "metadata": {},
   "source": [
    "### Array Partition I"
   ]
  },
  {
   "cell_type": "code",
   "execution_count": 43,
   "metadata": {
    "collapsed": false
   },
   "outputs": [],
   "source": [
    "class Solution(object):\n",
    "    # swap two elements \n",
    "    def __swap (self, arr, i ,j):\n",
    "        temp = arr[i]\n",
    "        arr[i] = arr[j]\n",
    "        arr[j] = temp\n",
    "        \n",
    "    # sort the list    \n",
    "    def __qsort(self, arr, lo, hi):\n",
    "        if (hi - lo) <= 0:\n",
    "            return\n",
    "        pivot = arr[lo]\n",
    "        lt = lo\n",
    "        gt = hi\n",
    "        i = lo\n",
    "        # loop to sort \n",
    "        while (i <= gt):\n",
    "            if arr[i] < pivot:\n",
    "                self.__swap(arr, i, lt)\n",
    "                i += 1\n",
    "                lt += 1\n",
    "            elif arr[i] > pivot:\n",
    "                self.__swap(arr, i, gt)\n",
    "                gt -= 1\n",
    "            else:\n",
    "                i += 1\n",
    "        # sort first half\n",
    "        #print(arr)\n",
    "        self.__qsort(arr, lo, lt - 1)\n",
    "        self.__qsort(arr, gt + 1, hi)\n",
    "        \n",
    "        \n",
    "    \n",
    "    def arrayPairSum(self, nums):\n",
    "        \"\"\"\n",
    "        :type nums: List[int]\n",
    "        :rtype: int\n",
    "        \"\"\"\n",
    "        # nothing to do here \n",
    "        if len(nums) <= 1:\n",
    "            return\n",
    "        # first sort the array\n",
    "        self.__qsort(nums, 0, len(nums) - 1)\n",
    "        pairSum = 0\n",
    "        #print(nums)\n",
    "        for i in reversed(range(0,len(nums),2)):\n",
    "            print(nums[i])\n",
    "            pairSum += nums[i]\n",
    "        \n",
    "        return pairSum\n",
    "            \n",
    "            \n",
    "                \n",
    "            \n",
    "        \n",
    "        "
   ]
  },
  {
   "cell_type": "code",
   "execution_count": 44,
   "metadata": {
    "collapsed": true
   },
   "outputs": [],
   "source": [
    "sol = Solution()"
   ]
  },
  {
   "cell_type": "code",
   "execution_count": 45,
   "metadata": {
    "collapsed": false
   },
   "outputs": [
    {
     "name": "stdout",
     "output_type": "stream",
     "text": [
      "[2, 0, 4, 6, 5, 5]\n",
      "[0, 2, 4, 6, 5, 5]\n",
      "[0, 2, 4, 5, 5, 6]\n",
      "[0, 2, 4, 5, 5, 6]\n",
      "[0, 2, 4, 5, 5, 6]\n",
      "5\n",
      "4\n",
      "0\n"
     ]
    },
    {
     "data": {
      "text/plain": [
       "9"
      ]
     },
     "execution_count": 45,
     "metadata": {},
     "output_type": "execute_result"
    }
   ],
   "source": [
    "sol.arrayPairSum([4,2,5,5,6,0])"
   ]
  },
  {
   "cell_type": "markdown",
   "metadata": {},
   "source": [
    "### Complexity\n",
    "Time : O(nlogn) qsort in place using no extra array<br>\n",
    "Space: O(1)<br>\n"
   ]
  },
  {
   "cell_type": "markdown",
   "metadata": {},
   "source": [
    "### OTPIMAL SOLUTION USING RADIX SORT \n",
    "Time : O(n) only one traverse to the whole list <br>\n",
    "Space : O(n) needs extra array to store frequencies of the item <br>"
   ]
  },
  {
   "cell_type": "code",
   "execution_count": 126,
   "metadata": {
    "collapsed": false
   },
   "outputs": [],
   "source": [
    "class Solution(object): \n",
    "    def arrayPairSum(self, nums):\n",
    "        \"\"\"\n",
    "        :type nums: List[int]\n",
    "        :rtype: int\n",
    "        \"\"\"\n",
    "        # trivial case \n",
    "        if len(nums) <= 2:\n",
    "            return min(nums)\n",
    "        \n",
    "        # using radix sort \n",
    "        # array dict \n",
    "        # index i = 0 will represent -10000\n",
    "        # index i = 10000 will represent 0\n",
    "        START_VAL = -10000\n",
    "        arrDict = [0 for i in range(20001)]\n",
    "        pairSum = 0\n",
    "        # counting frequencies of all the values\n",
    "        for val in nums:\n",
    "            index = val - START_VAL\n",
    "            #print(index)\n",
    "            arrDict[index] += 1\n",
    "        \n",
    "        prevCountDiv = 0\n",
    "        for index in reversed(range(len(arrDict))):\n",
    "            # let's add the sum here \n",
    "            count = arrDict[index]\n",
    "            #print (index)\n",
    "            if count > 0:\n",
    "                # well balance pair\n",
    "                val = index + START_VAL\n",
    "                if (prevCountDiv % 2) == 0:\n",
    "                    # no extra from prev big number to form pairs\n",
    "                    pairSum += count // 2 * val\n",
    "                    prevCountDiv = count % 2\n",
    "                else:\n",
    "                    # we got one extras to form pairs from prev\n",
    "                    pairSum += (count + 1) // 2 * val\n",
    "                    prevCountDiv = (count + 1) % 2\n",
    "    \n",
    "        return pairSum\n",
    "                \n",
    "                \n",
    "            \n",
    "            \n",
    "            \n",
    "            \n",
    "                \n",
    "            \n",
    "        \n",
    "        "
   ]
  },
  {
   "cell_type": "code",
   "execution_count": 127,
   "metadata": {
    "collapsed": true
   },
   "outputs": [],
   "source": [
    "sol = Solution()"
   ]
  },
  {
   "cell_type": "code",
   "execution_count": 125,
   "metadata": {
    "collapsed": false
   },
   "outputs": [
    {
     "data": {
      "text/plain": [
       "9"
      ]
     },
     "execution_count": 125,
     "metadata": {},
     "output_type": "execute_result"
    }
   ],
   "source": [
    "sol.arrayPairSum([4,2,5,5,6,0])"
   ]
  },
  {
   "cell_type": "code",
   "execution_count": 116,
   "metadata": {
    "collapsed": false
   },
   "outputs": [
    {
     "data": {
      "text/plain": [
       "1"
      ]
     },
     "execution_count": 116,
     "metadata": {},
     "output_type": "execute_result"
    }
   ],
   "source": [
    "1 % 2"
   ]
  },
  {
   "cell_type": "code",
   "execution_count": null,
   "metadata": {
    "collapsed": true
   },
   "outputs": [],
   "source": []
  }
 ],
 "metadata": {
  "anaconda-cloud": {},
  "kernelspec": {
   "display_name": "Python [conda env:RoboND]",
   "language": "python",
   "name": "conda-env-RoboND-py"
  },
  "language_info": {
   "codemirror_mode": {
    "name": "ipython",
    "version": 3
   },
   "file_extension": ".py",
   "mimetype": "text/x-python",
   "name": "python",
   "nbconvert_exporter": "python",
   "pygments_lexer": "ipython3",
   "version": "3.5.2"
  }
 },
 "nbformat": 4,
 "nbformat_minor": 1
}
