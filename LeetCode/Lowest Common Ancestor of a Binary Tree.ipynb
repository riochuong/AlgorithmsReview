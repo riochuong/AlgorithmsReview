{
 "cells": [
  {
   "cell_type": "markdown",
   "metadata": {},
   "source": [
    "Given a binary tree, find the lowest common ancestor (LCA) of two given nodes in the tree.\n",
    "\n",
    "According to the definition of LCA on Wikipedia: “The lowest common ancestor is defined between two nodes v and w as the lowest node in T that has both v and w as descendants (where we allow a node to be a descendant of itself).”\n",
    "\n",
    "        _______3______\n",
    "       /              \\\n",
    "    ___5__          ___1__\n",
    "   /      \\        /      \\\n",
    "   6      _2       0       8\n",
    "         /  \\\n",
    "         7   4\n",
    "For example, the lowest common ancestor (LCA) of nodes 5 and 1 is 3. Another example is LCA of nodes 5 and 4 is 5, since a node can be a descendant of itself according to the LCA definition."
   ]
  },
  {
   "cell_type": "code",
   "execution_count": 1,
   "metadata": {
    "collapsed": true
   },
   "outputs": [],
   "source": [
    "# Definition for a binary tree node.\n",
    "# class TreeNode(object):\n",
    "#     def __init__(self, x):\n",
    "#         self.val = x\n",
    "#         self.left = None\n",
    "#         self.right = None\n",
    "\n",
    "class Solution(object):\n",
    "    def lowestCommonAncestor(self, root, p, q):\n",
    "        \"\"\"\n",
    "        :type root: TreeNode\n",
    "        :type p: TreeNode\n",
    "        :type q: TreeNode\n",
    "        :rtype: TreeNode\n",
    "        \"\"\"\n",
    "        # map to help traverse back \n",
    "        parentMap = {root:None}\n",
    "        # this to hold either p or q depends on who get found first after traversal\n",
    "        possibleParent = None\n",
    "        possibleChild = None \n",
    "        # stack for traverse\n",
    "        stack = [root]\n",
    "        count = 0\n",
    "        # traverse the tree\n",
    "        while len(stack) and (count < 2):\n",
    "            parent = stack.pop(0)\n",
    "            # assign node and increase count to know when we should stop\n",
    "            if (parent == p) or (parent == q):\n",
    "                count += 1\n",
    "                if not possibleParent:\n",
    "                    possibleParent = parent\n",
    "                else:\n",
    "                    possibleChild = parent\n",
    "            left = parent.left\n",
    "            right = parent.right\n",
    "            # check if we should enqueue these \n",
    "            if right:\n",
    "                parentMap[right] = parent\n",
    "                stack.append(right)\n",
    "            if left:\n",
    "                parentMap[left] = parent\n",
    "                stack.append(left)\n",
    "        # then generate parent map \n",
    "        parentTraverseMap = {}\n",
    "        nodeIter = possibleParent\n",
    "        while nodeIter:\n",
    "            parentTraverseMap[nodeIter] = nodeIter\n",
    "            nodeIter = parentMap[nodeIter]\n",
    "\n",
    "        # start traversing from the possbile child\n",
    "        nodeIter = possibleChild\n",
    "        while nodeIter:\n",
    "            if nodeIter in parentTraverseMap:\n",
    "                return nodeIter\n",
    "            nodeIter = parentMap[nodeIter]\n",
    "        # it should not get here if two nodes are in the same tree\n",
    "        return None\n",
    "        \n",
    "            \n",
    "            \n",
    "            \n",
    "        "
   ]
  },
  {
   "cell_type": "code",
   "execution_count": null,
   "metadata": {
    "collapsed": true
   },
   "outputs": [],
   "source": []
  }
 ],
 "metadata": {
  "anaconda-cloud": {},
  "kernelspec": {
   "display_name": "Python [conda env:deep_learning]",
   "language": "python",
   "name": "conda-env-deep_learning-py"
  },
  "language_info": {
   "codemirror_mode": {
    "name": "ipython",
    "version": 3
   },
   "file_extension": ".py",
   "mimetype": "text/x-python",
   "name": "python",
   "nbconvert_exporter": "python",
   "pygments_lexer": "ipython3",
   "version": "3.5.2"
  }
 },
 "nbformat": 4,
 "nbformat_minor": 1
}
