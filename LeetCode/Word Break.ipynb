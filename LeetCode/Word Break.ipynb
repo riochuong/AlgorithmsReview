{
 "cells": [
  {
   "cell_type": "raw",
   "metadata": {},
   "source": [
    "Given a non-empty string s and a dictionary wordDict containing a list of non-empty words, determine if s can be segmented into a space-separated sequence of one or more dictionary words. You may assume the dictionary does not contain duplicate words.\n",
    "\n",
    "For example, given\n",
    "s = \"leetcode\",\n",
    "dict = [\"leet\", \"code\"].\n",
    "\n",
    "Return true because \"leetcode\" can be segmented as \"leet code\".\n",
    "\n",
    "UPDATE (2017/1/4):\n",
    "The wordDict parameter had been changed to a list of strings (instead of a set of strings). Please reload the code definition to get the latest changes.\n"
   ]
  },
  {
   "cell_type": "code",
   "execution_count": 19,
   "metadata": {
    "collapsed": true
   },
   "outputs": [],
   "source": [
    "## DYnamice Programming Solution\n",
    "\n",
    "class Solution(object):\n",
    "    def wordBreak(self, s, wordDict):\n",
    "        \"\"\"\n",
    "        :type s: str\n",
    "        :type wordDict: List[str]\n",
    "        :rtype: bool\n",
    "        \"\"\"\n",
    "        # start \n",
    "        # this array represent if the substr of len represented by \n",
    "        # the index of the array has all words contained in wordDict\n",
    "        # first item is empty string\n",
    "        subStr = [False for i in range( len(s) + 1 )]\n",
    "        # assume the first one is emtpry string\n",
    "        subStr[0] = True\n",
    "        # we traverse from beginning to the index i of the string \n",
    "        # and check if the substring of length j is contained in the \n",
    "        # word dict.\n",
    "        for i in range(1, len(s) + 1):\n",
    "            for j in range(0, i + 1):\n",
    "                # check if \n",
    "                #print(s[j:i])\n",
    "                if subStr[j] and (s[j:i] in wordDict):\n",
    "                    subStr[i] = True\n",
    "                    break\n",
    "        \n",
    "        return subStr[len(subStr)-1]\n",
    "                    \n",
    "                \n",
    "                \n",
    "        \n",
    "       \n",
    "                "
   ]
  },
  {
   "cell_type": "code",
   "execution_count": 20,
   "metadata": {
    "collapsed": false
   },
   "outputs": [
    {
     "name": "stdout",
     "output_type": "stream",
     "text": [
      "[True, False, False, False, True, False, False, False, True]\n"
     ]
    },
    {
     "data": {
      "text/plain": [
       "True"
      ]
     },
     "execution_count": 20,
     "metadata": {},
     "output_type": "execute_result"
    }
   ],
   "source": [
    "a = \"leetcode\"\n",
    "b = [\"leet\", \"code\"]\n",
    "soln = Solution()\n",
    "soln.wordBreak(a,b)"
   ]
  },
  {
   "cell_type": "code",
   "execution_count": 18,
   "metadata": {
    "collapsed": true
   },
   "outputs": [],
   "source": [
    "## BFS solution \n",
    "class Solution(object):\n",
    "    def wordBreak(self, s, wordDict):\n",
    "        \"\"\"\n",
    "        :type s: str\n",
    "        :type wordDict: List[str]\n",
    "        :rtype: bool\n",
    "        \"\"\"\n",
    "        # start \n",
    "        \n",
    "       \n",
    "                "
   ]
  },
  {
   "cell_type": "code",
   "execution_count": 1,
   "metadata": {
    "collapsed": true
   },
   "outputs": [],
   "source": [
    "a = \"abc\""
   ]
  },
  {
   "cell_type": "code",
   "execution_count": 3,
   "metadata": {
    "collapsed": false
   },
   "outputs": [
    {
     "data": {
      "text/plain": [
       "''"
      ]
     },
     "execution_count": 3,
     "metadata": {},
     "output_type": "execute_result"
    }
   ],
   "source": [
    "a[0:0]"
   ]
  },
  {
   "cell_type": "code",
   "execution_count": null,
   "metadata": {
    "collapsed": true
   },
   "outputs": [],
   "source": []
  }
 ],
 "metadata": {
  "kernelspec": {
   "display_name": "Python [conda env:deep_learning]",
   "language": "python",
   "name": "conda-env-deep_learning-py"
  },
  "language_info": {
   "codemirror_mode": {
    "name": "ipython",
    "version": 3
   },
   "file_extension": ".py",
   "mimetype": "text/x-python",
   "name": "python",
   "nbconvert_exporter": "python",
   "pygments_lexer": "ipython3",
   "version": "3.5.2"
  }
 },
 "nbformat": 4,
 "nbformat_minor": 1
}
