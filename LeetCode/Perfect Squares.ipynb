{
 "cells": [
  {
   "cell_type": "markdown",
   "metadata": {},
   "source": [
    "Given a positive integer n, find the least number of perfect square numbers (for example, 1, 4, 9, 16, ...) which sum to n.\n",
    "\n",
    "For example, given n = 12, return 3 because 12 = 4 + 4 + 4; given n = 13, return 2 because 13 = 4 + 9.\n",
    "\n",
    "Credits:\n",
    "Special thanks to @jianchao.li.fighter for adding this problem and creating all test cases."
   ]
  },
  {
   "cell_type": "code",
   "execution_count": 43,
   "metadata": {
    "collapsed": true
   },
   "outputs": [],
   "source": [
    "class Solution(object):\n",
    "    def numSquares(self, n):\n",
    "        \"\"\"\n",
    "        :type n: int\n",
    "        :rtype: int\n",
    "        \"\"\"\n",
    "        if n <= 1:\n",
    "            return 1\n",
    "        # generate perfect squares that can sum to n\n",
    "        perfectSquares = [ i*i for i in range(1,int(n**0.5) + 1) ]\n",
    "        #print(\"psqrts:\",perfectSquares)\n",
    "        # this map store the minimum number of perfect squares sum \n",
    "        # index represent the target sum\n",
    "        minLenMap = [0] * (n + 1)\n",
    "        minLenMap[1] = 1\n",
    "        minLenMap[0] = 1\n",
    "        # loop through and find the min\n",
    "        for target in range(2, n+1):\n",
    "            currMinLen = None\n",
    "            for pSqr in perfectSquares:\n",
    "                diffIndex = target - pSqr \n",
    "                #print(\"diff idx\", diffIndex)\n",
    "                # go to next target as the difference would be more negative after\n",
    "                if diffIndex < 0:\n",
    "                    break\n",
    "                # check to see if we should update \n",
    "                if diffIndex >= 0:\n",
    "                    possMinLen = minLenMap[diffIndex] + minLenMap[pSqr]\n",
    "                    if (not currMinLen) or (possMinLen < currMinLen):\n",
    "                        currMinLen = possMinLen\n",
    "            # update the minLenMap for next calculation\n",
    "            minLenMap[target] = currMinLen\n",
    "        \n",
    "        #print(minLenMap)\n",
    "        return minLenMap[n]\n",
    "        \n",
    "        \n",
    "            \n",
    "            \n",
    "            \n",
    "        \n",
    "        "
   ]
  },
  {
   "cell_type": "code",
   "execution_count": 44,
   "metadata": {
    "collapsed": true
   },
   "outputs": [],
   "source": [
    "soln = Solution()"
   ]
  },
  {
   "cell_type": "code",
   "execution_count": 45,
   "metadata": {
    "collapsed": false
   },
   "outputs": [
    {
     "name": "stdout",
     "output_type": "stream",
     "text": [
      "2\n"
     ]
    }
   ],
   "source": [
    "print(soln.numSquares(13))"
   ]
  },
  {
   "cell_type": "code",
   "execution_count": null,
   "metadata": {
    "collapsed": true
   },
   "outputs": [],
   "source": []
  }
 ],
 "metadata": {
  "anaconda-cloud": {},
  "kernelspec": {
   "display_name": "Python [conda env:deep_learning]",
   "language": "python",
   "name": "conda-env-deep_learning-py"
  },
  "language_info": {
   "codemirror_mode": {
    "name": "ipython",
    "version": 3
   },
   "file_extension": ".py",
   "mimetype": "text/x-python",
   "name": "python",
   "nbconvert_exporter": "python",
   "pygments_lexer": "ipython3",
   "version": "3.5.2"
  }
 },
 "nbformat": 4,
 "nbformat_minor": 1
}
