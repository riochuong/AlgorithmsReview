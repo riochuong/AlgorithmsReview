{
 "cells": [
  {
   "cell_type": "code",
   "execution_count": 33,
   "metadata": {
    "collapsed": true
   },
   "outputs": [],
   "source": [
    "class Solution(object):\n",
    "    def lengthOfLongestSubstring(sefl, s):\n",
    "        '''\n",
    "        find longest substring of s\n",
    "        '''\n",
    "        if len(s) <= 1:\n",
    "            return len(s)\n",
    "        \n",
    "        # loop through the char list\n",
    "        char_map = {} # store index of already saw char\n",
    "        start = 0 # beginning index \n",
    "        current_longest = 0 # keep track of longest seen so far \n",
    "        for i, char in enumerate(s):\n",
    "            # found duplicate\n",
    "            if char in char_map:\n",
    "                # update start pos to the position right after the duplicate\n",
    "                # the trick is right here as the window always slide forward \n",
    "                start = max(char_map[char] + 1, start)\n",
    "            # check and update longest and new char\n",
    "            char_map[char] = i\n",
    "            curr_len = i - start + 1\n",
    "            if curr_len > current_longest:\n",
    "                current_longest = curr_len\n",
    "        # need to verify the last run \n",
    "        # OPTIMIZE to avoid these \n",
    "        #last_run_count = len(char_map)\n",
    "        #if last_run_count > current_longest:\n",
    "        #    return last_run_count\n",
    "        # return last value from previous run instead \n",
    "        return current_longest\n",
    "            "
   ]
  },
  {
   "cell_type": "code",
   "execution_count": 34,
   "metadata": {
    "collapsed": true
   },
   "outputs": [],
   "source": [
    "soln = Solution()"
   ]
  },
  {
   "cell_type": "markdown",
   "metadata": {},
   "source": [
    "### Running time complexity:\n",
    "O(2n) -> worst case to delete item from hash table we need to revisit each node twice \n",
    "\n",
    "### Space Complexity:\n",
    "O(n)\n"
   ]
  },
  {
   "cell_type": "markdown",
   "metadata": {
    "collapsed": true
   },
   "source": [
    "### Optimize Solution:\n",
    "The trick here is that the window is always slide forward so we dont have to go back to delete already seen character. Instead we can just get the max of the duplicate and current start of the substring indices."
   ]
  },
  {
   "cell_type": "code",
   "execution_count": null,
   "metadata": {
    "collapsed": true
   },
   "outputs": [],
   "source": []
  },
  {
   "cell_type": "code",
   "execution_count": null,
   "metadata": {
    "collapsed": true
   },
   "outputs": [],
   "source": []
  }
 ],
 "metadata": {
  "anaconda-cloud": {},
  "kernelspec": {
   "display_name": "Python [conda env:deep_learning]",
   "language": "python",
   "name": "conda-env-deep_learning-py"
  },
  "language_info": {
   "codemirror_mode": {
    "name": "ipython",
    "version": 3
   },
   "file_extension": ".py",
   "mimetype": "text/x-python",
   "name": "python",
   "nbconvert_exporter": "python",
   "pygments_lexer": "ipython3",
   "version": "3.5.2"
  }
 },
 "nbformat": 4,
 "nbformat_minor": 1
}
