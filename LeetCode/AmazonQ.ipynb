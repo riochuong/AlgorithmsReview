{
 "cells": [
  {
   "cell_type": "code",
   "execution_count": null,
   "metadata": {
    "collapsed": true
   },
   "outputs": [],
   "source": []
  },
  {
   "cell_type": "code",
   "execution_count": 50,
   "metadata": {
    "collapsed": false
   },
   "outputs": [],
   "source": [
    "def subStringsKDist(inputStr, num):\n",
    "    # check if str have all distinct char\n",
    "    def isDistinctStr(myStr):\n",
    "        count = [0] * 26\n",
    "        for c in myStr:\n",
    "            index = ord(c) - ord('a')\n",
    "            # if we already have this char before\n",
    "            if count[index] == 1 : return False\n",
    "            count[index] += 1\n",
    "        return True\n",
    "    # slide windows through \n",
    "    if len(inputStr) < num:\n",
    "        return 0\n",
    "    \n",
    "    if len(inputStr) == num:\n",
    "        return 1\n",
    "    \n",
    "    # start slide the window\n",
    "    table = {}\n",
    "    start = 0\n",
    "    while (start + num) <= len(inputStr):\n",
    "        subStr = inputStr[start:(start + num)]\n",
    "        # check if substr is in table\n",
    "        #print(subStr)\n",
    "        if (not subStr in table) and isDistinctStr(subStr):\n",
    "            print (subStr)\n",
    "            # add to table \n",
    "            table[subStr] = subStr\n",
    "        # slide to next \n",
    "        start += 1\n",
    "        \n",
    "    "
   ]
  },
  {
   "cell_type": "code",
   "execution_count": 51,
   "metadata": {
    "collapsed": false
   },
   "outputs": [
    {
     "name": "stdout",
     "output_type": "stream",
     "text": [
      "wagl\n"
     ]
    }
   ],
   "source": [
    "subStringsKDist(\"waglaasg\",4)"
   ]
  },
  {
   "cell_type": "code",
   "execution_count": null,
   "metadata": {
    "collapsed": true
   },
   "outputs": [],
   "source": []
  },
  {
   "cell_type": "code",
   "execution_count": null,
   "metadata": {
    "collapsed": true
   },
   "outputs": [],
   "source": []
  }
 ],
 "metadata": {
  "anaconda-cloud": {},
  "kernelspec": {
   "display_name": "Python [conda env:deep_learning]",
   "language": "python",
   "name": "conda-env-deep_learning-py"
  },
  "language_info": {
   "codemirror_mode": {
    "name": "ipython",
    "version": 3
   },
   "file_extension": ".py",
   "mimetype": "text/x-python",
   "name": "python",
   "nbconvert_exporter": "python",
   "pygments_lexer": "ipython3",
   "version": "3.5.2"
  }
 },
 "nbformat": 4,
 "nbformat_minor": 1
}
