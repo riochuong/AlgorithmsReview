{
 "cells": [
  {
   "cell_type": "markdown",
   "metadata": {},
   "source": [
    "### Peak Element\n"
   ]
  },
  {
   "cell_type": "markdown",
   "metadata": {},
   "source": [
    "A peak element is an element that is greater than its neighbors.\n",
    "\n",
    "Given an input array where num[i] ≠ num[i+1], find a peak element and return its index.\n",
    "\n",
    "The array may contain multiple peaks, in that case return the index to any one of the peaks is fine.\n",
    "\n",
    "You may imagine that num[-1] = num[n] = -∞.\n",
    "\n",
    "For example, in array [1, 2, 3, 1], 3 is a peak element and your function should return the index number 2.\n",
    "\n",
    "click to show spoilers.\n",
    "\n",
    "Credits:\n",
    "Special thanks to @ts for adding this problem and creating all test cases."
   ]
  },
  {
   "cell_type": "code",
   "execution_count": 13,
   "metadata": {
    "collapsed": false
   },
   "outputs": [],
   "source": [
    "class Solution(object):\n",
    "    def findPeakElement(self, nums):\n",
    "        \"\"\"\n",
    "        :type nums: List[int]\n",
    "        :rtype: int\n",
    "        \"\"\"\n",
    "        if len(nums) == 0:\n",
    "            return -1\n",
    "        \n",
    "        # one item only - it should be peak\n",
    "        if len(nums) == 1:\n",
    "            return 0\n",
    "        \n",
    "        for i in range(len(nums)):\n",
    "            # first item only has 1 neighbor\n",
    "            if i == 0 and (nums[i] > nums[i+1]):\n",
    "                return i\n",
    "            # last item only has one neighbor\n",
    "            elif i == (len(nums) - 1) and nums[i] > nums[i-1]:\n",
    "                return i\n",
    "            \n",
    "            else:\n",
    "                leftNb = nums[i-1]\n",
    "                rightNb = nums[i+1]\n",
    "                if (nums[i] > nums[i-1]) and (nums[i] > nums[i+1]):\n",
    "                    return i\n",
    "            \n",
    "                \n",
    "                "
   ]
  },
  {
   "cell_type": "markdown",
   "metadata": {},
   "source": [
    "### Solution"
   ]
  },
  {
   "cell_type": "markdown",
   "metadata": {},
   "source": [
    "this can be done in O(log2(n)) using binary search and assume that we can return any peaks.\n",
    "Check the mid element and its neighbors:\n",
    "    if mid is in ascending area then there is peak to the right of it <br>\n",
    "    if mid is in the descending area then there is peak to the left of it <br>\n",
    "    if mid is peak then, return its index\n",
    "    "
   ]
  },
  {
   "cell_type": "code",
   "execution_count": 64,
   "metadata": {
    "collapsed": true
   },
   "outputs": [],
   "source": [
    "class OptimizeSolution(object):\n",
    "    def findPeakElement(self, nums):\n",
    "        \n",
    "        if len(nums) == 0:\n",
    "            return -1\n",
    "        \n",
    "        elif len(nums) == 1:\n",
    "            return 0\n",
    "        \n",
    "        else:\n",
    "            return self.searchForPeak(nums, 0, len(nums) -1)\n",
    "    \n",
    "    # function wil recursively search for peak element\n",
    "    def searchForPeak(self, nums, start, end):\n",
    "        #print(\"start \",start,\" end \", end)\n",
    "        if start == end:\n",
    "            # found the peak here\n",
    "            return start\n",
    "        else:\n",
    "            mid = start + (end - start) // 2 \n",
    "            if nums[mid] < nums[mid+1]:\n",
    "                return self.searchForPeak(nums, mid + 1, end)\n",
    "            else:\n",
    "                return self.searchForPeak(nums, l, mid)\n",
    "        "
   ]
  },
  {
   "cell_type": "code",
   "execution_count": 65,
   "metadata": {
    "collapsed": true
   },
   "outputs": [],
   "source": [
    "optSoln = OptimizeSolution()"
   ]
  },
  {
   "cell_type": "code",
   "execution_count": 66,
   "metadata": {
    "collapsed": false
   },
   "outputs": [
    {
     "data": {
      "text/plain": [
       "3"
      ]
     },
     "execution_count": 66,
     "metadata": {},
     "output_type": "execute_result"
    }
   ],
   "source": [
    "optSoln.findPeakElement([1,2,3,4,3])"
   ]
  },
  {
   "cell_type": "code",
   "execution_count": null,
   "metadata": {
    "collapsed": true
   },
   "outputs": [],
   "source": []
  }
 ],
 "metadata": {
  "anaconda-cloud": {},
  "kernelspec": {
   "display_name": "Python [default]",
   "language": "python",
   "name": "python3"
  },
  "language_info": {
   "codemirror_mode": {
    "name": "ipython",
    "version": 3
   },
   "file_extension": ".py",
   "mimetype": "text/x-python",
   "name": "python",
   "nbconvert_exporter": "python",
   "pygments_lexer": "ipython3",
   "version": "3.5.2"
  }
 },
 "nbformat": 4,
 "nbformat_minor": 2
}
