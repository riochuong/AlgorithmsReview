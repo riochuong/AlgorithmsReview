{
 "cells": [
  {
   "cell_type": "code",
   "execution_count": 158,
   "metadata": {
    "collapsed": false
   },
   "outputs": [],
   "source": [
    "# UNION FIND SOLUTION is a bit complex -- USE DFS solution below for a more intuitive solutions\n",
    "class Solution:\n",
    "    def numIslands(self, grid):\n",
    "        \"\"\"\n",
    "        :type grid: List[List[str]]\n",
    "        :rtype: int\n",
    "        \"\"\"\n",
    "        # find root of island\n",
    "        def findRoot(i, unionArr):\n",
    "            while i != unionArr[i]:\n",
    "                i = unionArr[i]\n",
    "            return i\n",
    "        # unite two island \n",
    "        def unite(i, j, unionArr, heightArr, isLandMap):\n",
    "            i = findRoot(i, unionArr)\n",
    "            j = findRoot(j, unionArr)\n",
    "            if heightArr[i] > heightArr[j]:\n",
    "                # merge j to i\n",
    "                unionArr[j] = i\n",
    "                # remove j \n",
    "                if j in islandMap:\n",
    "                    islandMap.pop(j)\n",
    "                    islandMap[i] = i\n",
    "                \n",
    "            elif heightArr[i] < heightArr[j]:\n",
    "                unionArr[i] = j\n",
    "                # remove i\n",
    "                if i in islandMap:\n",
    "                    islandMap.pop(i)\n",
    "                    islandMap[j] = j\n",
    "\n",
    "            else:\n",
    "                # height only increase if we merge same height trees\n",
    "                heightArr[i] += 1\n",
    "                unionArr[j] = i\n",
    "                if j in isLandMap:\n",
    "                    islandMap.pop(j)\n",
    "                    islandMap[i] = i\n",
    "        # if nothing in the grid return 0 \n",
    "        if len(grid) == 0:\n",
    "            return 0\n",
    "        islandMap = {}    \n",
    "        rowCount = len(grid)\n",
    "        colCount = len(grid[0])\n",
    "        size = rowCount * colCount\n",
    "        unionArr = [i for i in range(size)]\n",
    "        isLandArr = [False for i in range(size)]\n",
    "        unionHeight = [1 for i in range(size)]\n",
    "        # mark island \n",
    "        for r in range(rowCount):\n",
    "            for c in range(colCount):\n",
    "                # calculate index for union arr\n",
    "                index = r * colCount + c\n",
    "                #print(index,':',int(grid[r][c]))\n",
    "                if int(grid[r][c]):\n",
    "                    isLandArr[index] = True\n",
    "                    islandMap[index] = index\n",
    "        #print(islandMap)\n",
    "        \n",
    "        # traverse union arr\n",
    "        for idx,item in enumerate(unionArr):\n",
    "            if isLandArr[idx]:\n",
    "                # unite with neighbor \n",
    "                rightNeighborIdx = idx + 1 if ((idx + 1) % colCount != 0) else size + 1\n",
    "                downNeighborIdx = idx + colCount\n",
    "                # unite these islands\n",
    "                if (rightNeighborIdx < size) and (isLandArr[rightNeighborIdx]):\n",
    "                    unite(idx, rightNeighborIdx, unionArr, unionHeight, islandMap)\n",
    "                if (downNeighborIdx < size) and (isLandArr[downNeighborIdx]):\n",
    "                    unite(idx, downNeighborIdx, unionArr, unionHeight, islandMap)\n",
    "        #print(unionArr)\n",
    "        #print(islandMap)\n",
    "        return len(islandMap)    "
   ]
  },
  {
   "cell_type": "code",
   "execution_count": 159,
   "metadata": {
    "collapsed": true
   },
   "outputs": [],
   "source": [
    "soln = Solution()"
   ]
  },
  {
   "cell_type": "code",
   "execution_count": 160,
   "metadata": {
    "collapsed": false
   },
   "outputs": [
    {
     "data": {
      "text/plain": [
       "5"
      ]
     },
     "execution_count": 160,
     "metadata": {},
     "output_type": "execute_result"
    }
   ],
   "source": [
    "soln.numIslands([[\"1\",\"0\",\"0\",\"1\",\"0\"],[\"1\",\"0\",\"1\",\"0\",\"1\"],[\"0\",\"1\",\"1\",\"0\",\"1\"],[\"1\",\"0\",\"1\",\"0\",\"0\"]])"
   ]
  },
  {
   "cell_type": "code",
   "execution_count": 161,
   "metadata": {
    "collapsed": true
   },
   "outputs": [],
   "source": [
    "test = [[\"1\",\"0\",\"0\",\"1\",\"1\",\"1\",\"0\",\"1\",\"1\",\"0\",\"0\",\"0\",\"0\",\"0\",\"0\",\"0\",\"0\",\"0\",\"0\",\"0\"],\n",
    "        [\"1\",\"0\",\"0\",\"1\",\"1\",\"0\",\"0\",\"1\",\"0\",\"0\",\"0\",\"1\",\"0\",\"1\",\"0\",\"1\",\"0\",\"0\",\"1\",\"0\"],\n",
    "        [\"0\",\"0\",\"0\",\"1\",\"1\",\"1\",\"1\",\"0\",\"1\",\"0\",\"1\",\"1\",\"0\",\"0\",\"0\",\"0\",\"1\",\"0\",\"1\",\"0\"],\n",
    "        [\"0\",\"0\",\"0\",\"1\",\"1\",\"0\",\"0\",\"1\",\"0\",\"0\",\"0\",\"1\",\"1\",\"1\",\"0\",\"0\",\"1\",\"0\",\"0\",\"1\"],\n",
    "        [\"0\",\"0\",\"0\",\"0\",\"0\",\"0\",\"0\",\"1\",\"1\",\"1\",\"0\",\"0\",\"0\",\"0\",\"0\",\"0\",\"0\",\"0\",\"0\",\"0\"],\n",
    "        [\"1\",\"0\",\"0\",\"0\",\"0\",\"1\",\"0\",\"1\",\"0\",\"1\",\"1\",\"0\",\"0\",\"0\",\"0\",\"0\",\"0\",\"1\",\"0\",\"1\"],\n",
    "        [\"0\",\"0\",\"0\",\"1\",\"0\",\"0\",\"0\",\"1\",\"0\",\"1\",\"0\",\"1\",\"0\",\"1\",\"0\",\"1\",\"0\",\"1\",\"0\",\"1\"],\n",
    "        [\"0\",\"0\",\"0\",\"1\",\"0\",\"1\",\"0\",\"0\",\"1\",\"1\",\"0\",\"1\",\"0\",\"1\",\"1\",\"0\",\"1\",\"1\",\"1\",\"0\"],\n",
    "        [\"0\",\"0\",\"0\",\"0\",\"1\",\"0\",\"0\",\"1\",\"1\",\"0\",\"0\",\"0\",\"0\",\"1\",\"0\",\"0\",\"0\",\"1\",\"0\",\"1\"],\n",
    "        [\"0\",\"0\",\"1\",\"0\",\"0\",\"1\",\"0\",\"0\",\"0\",\"0\",\"0\",\"1\",\"0\",\"0\",\"1\",\"0\",\"0\",\"0\",\"1\",\"0\"],\n",
    "        [\"1\",\"0\",\"0\",\"1\",\"0\",\"0\",\"0\",\"0\",\"0\",\"0\",\"0\",\"1\",\"0\",\"0\",\"1\",\"0\",\"1\",\"0\",\"1\",\"0\"],\n",
    "        [\"0\",\"1\",\"0\",\"0\",\"0\",\"1\",\"0\",\"1\",\"0\",\"1\",\"1\",\"0\",\"1\",\"1\",\"1\",\"0\",\"1\",\"1\",\"0\",\"0\"],\n",
    "        [\"1\",\"1\",\"0\",\"1\",\"0\",\"0\",\"0\",\"0\",\"1\",\"0\",\"0\",\"0\",\"0\",\"0\",\"0\",\"1\",\"0\",\"0\",\"0\",\"1\"],\n",
    "        [\"0\",\"1\",\"0\",\"0\",\"1\",\"1\",\"1\",\"0\",\"0\",\"0\",\"1\",\"1\",\"1\",\"1\",\"1\",\"0\",\"1\",\"0\",\"0\",\"0\"],\n",
    "        [\"0\",\"0\",\"1\",\"1\",\"1\",\"0\",\"0\",\"0\",\"1\",\"1\",\"0\",\"0\",\"0\",\"1\",\"0\",\"1\",\"0\",\"0\",\"0\",\"0\"],\n",
    "        [\"1\",\"0\",\"0\",\"1\",\"0\",\"1\",\"0\",\"0\",\"0\",\"0\",\"1\",\"0\",\"0\",\"0\",\"1\",\"0\",\"1\",\"0\",\"1\",\"1\"],\n",
    "        [\"1\",\"0\",\"1\",\"0\",\"0\",\"0\",\"0\",\"0\",\"0\",\"1\",\"0\",\"0\",\"0\",\"1\",\"0\",\"1\",\"0\",\"0\",\"0\",\"0\"],\n",
    "        [\"0\",\"1\",\"1\",\"0\",\"0\",\"0\",\"1\",\"1\",\"1\",\"0\",\"1\",\"0\",\"1\",\"0\",\"1\",\"1\",\"1\",\"1\",\"0\",\"0\"],\n",
    "        [\"0\",\"1\",\"0\",\"0\",\"0\",\"0\",\"1\",\"1\",\"0\",\"0\",\"1\",\"0\",\"1\",\"0\",\"0\",\"1\",\"0\",\"0\",\"1\",\"1\"],\n",
    "        [\"0\",\"0\",\"0\",\"0\",\"0\",\"0\",\"1\",\"1\",\"1\",\"1\",\"0\",\"1\",\"0\",\"0\",\"0\",\"1\",\"1\",\"0\",\"0\",\"0\"]]"
   ]
  },
  {
   "cell_type": "code",
   "execution_count": 162,
   "metadata": {
    "collapsed": false
   },
   "outputs": [
    {
     "data": {
      "text/plain": [
       "58"
      ]
     },
     "execution_count": 162,
     "metadata": {},
     "output_type": "execute_result"
    }
   ],
   "source": [
    "soln.numIslands(test)"
   ]
  },
  {
   "cell_type": "code",
   "execution_count": 163,
   "metadata": {
    "collapsed": true
   },
   "outputs": [],
   "source": [
    "# DFS for Grid is a way easier solution for this problem "
   ]
  },
  {
   "cell_type": "code",
   "execution_count": 164,
   "metadata": {
    "collapsed": false
   },
   "outputs": [],
   "source": [
    "class Solution:\n",
    "    def numIslands(self, grid):\n",
    "        \"\"\"\n",
    "        :type grid: List[List[str]]\n",
    "        :rtype: int\n",
    "        \"\"\"\n",
    "        def dfs (row, col, numRow, numCol, grid):\n",
    "            # base case \n",
    "            if (row < 0) or (col < 0 ) or (row >= numRow) or (col >= numCol) or (grid[row][col] == \"0\"):\n",
    "                return \n",
    "            # mark the grid as done\n",
    "            grid[row][col] = \"0\"\n",
    "            \n",
    "            # dfs all neighbors\n",
    "            dfs(row + 1, col, numRow, numCol, grid)\n",
    "            dfs(row - 1, col,  numRow, numCol, grid)\n",
    "            dfs(row, col+1, numRow, numCol, grid)\n",
    "            dfs(row, col-1, numRow, numCol, grid)\n",
    "            \n",
    "            \n",
    "            \n",
    "        if len(grid) == 0:\n",
    "            return 0\n",
    "        \n",
    "        numRow = len(grid)\n",
    "        numCol = len(grid[0])\n",
    "        numIsland = 0\n",
    "        for i in range(numRow):\n",
    "            for j in range(numCol):\n",
    "                if grid[i][j] == \"1\":\n",
    "                    dfs(i, j, numRow, numCol, grid)\n",
    "                    numIsland += 1\n",
    "        print(grid)\n",
    "        return numIsland\n",
    "        "
   ]
  },
  {
   "cell_type": "code",
   "execution_count": 165,
   "metadata": {
    "collapsed": true
   },
   "outputs": [],
   "source": [
    "soln = Solution()"
   ]
  },
  {
   "cell_type": "code",
   "execution_count": 166,
   "metadata": {
    "collapsed": false
   },
   "outputs": [
    {
     "name": "stdout",
     "output_type": "stream",
     "text": [
      "[['0', '0', '0', '0', '0'], ['0', '0', '0', '0', '0'], ['0', '0', '0', '0', '0'], ['0', '0', '0', '0', '0']]\n"
     ]
    },
    {
     "data": {
      "text/plain": [
       "5"
      ]
     },
     "execution_count": 166,
     "metadata": {},
     "output_type": "execute_result"
    }
   ],
   "source": [
    "soln.numIslands([[\"1\",\"0\",\"0\",\"1\",\"0\"],[\"1\",\"0\",\"1\",\"0\",\"1\"],[\"0\",\"1\",\"1\",\"0\",\"1\"],[\"1\",\"0\",\"1\",\"0\",\"0\"]])"
   ]
  },
  {
   "cell_type": "code",
   "execution_count": null,
   "metadata": {
    "collapsed": true
   },
   "outputs": [],
   "source": []
  },
  {
   "cell_type": "code",
   "execution_count": null,
   "metadata": {
    "collapsed": true
   },
   "outputs": [],
   "source": []
  }
 ],
 "metadata": {
  "kernelspec": {
   "display_name": "Python [conda env:deep_learning]",
   "language": "python",
   "name": "conda-env-deep_learning-py"
  },
  "language_info": {
   "codemirror_mode": {
    "name": "ipython",
    "version": 3
   },
   "file_extension": ".py",
   "mimetype": "text/x-python",
   "name": "python",
   "nbconvert_exporter": "python",
   "pygments_lexer": "ipython3",
   "version": "3.5.2"
  }
 },
 "nbformat": 4,
 "nbformat_minor": 1
}
