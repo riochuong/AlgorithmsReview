{
 "cells": [
  {
   "cell_type": "code",
   "execution_count": 6,
   "metadata": {
    "collapsed": true
   },
   "outputs": [],
   "source": [
    "# Definition for a binary tree node.\n",
    "class TreeNode:\n",
    "    def __init__(self, x):\n",
    "        self.val = x\n",
    "        self.left = None\n",
    "        self.right = None\n",
    "\n",
    "class Solution:\n",
    "    def sortedArrayToBST(self, nums):\n",
    "        \"\"\"\n",
    "        :type nums: List[int]\n",
    "        :rtype: TreeNode\n",
    "        \"\"\"\n",
    "        def buildTree(start, end, arr):\n",
    "            \"\"\"\n",
    "                arr: original sorted array\n",
    "                start: start index\n",
    "                end: end index\n",
    "                @rtype: root node of the tree\n",
    "            \"\"\"\n",
    "            if (start > end) or (start < 0):\n",
    "                return None\n",
    "            if start == end:\n",
    "                # this is the leaves\n",
    "                return TreeNode(arr[start])\n",
    "            # find the median value\n",
    "            med_idx = (end + start) // 2\n",
    "            leftTree = buildTree(start, med_idx - 1, arr)\n",
    "            rightTree = buildTree(med_idx + 1, end, arr)\n",
    "            root = TreeNode(arr[med_idx])\n",
    "            root.left = leftTree\n",
    "            root.right = rightTree\n",
    "            return root\n",
    "        \n",
    "        return buildTree(0, len(nums) - 1, nums)\n",
    "            \n",
    "        # assume array is sorted \n",
    "        \n",
    "        "
   ]
  },
  {
   "cell_type": "code",
   "execution_count": 7,
   "metadata": {
    "collapsed": true
   },
   "outputs": [],
   "source": [
    "soln = Solution()"
   ]
  },
  {
   "cell_type": "code",
   "execution_count": 31,
   "metadata": {
    "collapsed": false
   },
   "outputs": [],
   "source": [
    "a = [1,2,3,4,5,6,7,8,9,10]"
   ]
  },
  {
   "cell_type": "code",
   "execution_count": 32,
   "metadata": {
    "collapsed": false
   },
   "outputs": [],
   "source": [
    "tree = soln.sortedArrayToBST(a)"
   ]
  },
  {
   "cell_type": "code",
   "execution_count": 33,
   "metadata": {
    "collapsed": false
   },
   "outputs": [],
   "source": [
    "def printTree(tree):\n",
    "    print(\"root : \",tree.val)\n",
    "    if (tree.left):\n",
    "        print(\"left : \",tree.left.val)\n",
    "    if (tree.right):\n",
    "        print(\"right: \",tree.right.val)\n",
    "    \n",
    "## BFS the tree \n",
    "def bfs(root):\n",
    "    queue = [root]\n",
    "    while len(queue) > 0:\n",
    "        node = queue.pop(0)\n",
    "        print(queue)\n",
    "        # add children\n",
    "        if node.left :\n",
    "            queue.append(node.left)\n",
    "        if node.right :\n",
    "            queue.append(node.right)\n",
    "        printTree(node)\n",
    "    "
   ]
  },
  {
   "cell_type": "code",
   "execution_count": 34,
   "metadata": {
    "collapsed": false
   },
   "outputs": [
    {
     "name": "stdout",
     "output_type": "stream",
     "text": [
      "[]\n",
      "root :  5\n",
      "left :  2\n",
      "right:  8\n",
      "[<__main__.TreeNode object at 0x7fbb6c336588>]\n",
      "root :  2\n",
      "left :  1\n",
      "right:  3\n",
      "[<__main__.TreeNode object at 0x7fbb6c336320>, <__main__.TreeNode object at 0x7fbb6c336550>]\n",
      "root :  8\n",
      "left :  6\n",
      "right:  9\n",
      "[<__main__.TreeNode object at 0x7fbb6c336550>, <__main__.TreeNode object at 0x7fbb6c3364e0>, <__main__.TreeNode object at 0x7fbb6c336400>]\n",
      "root :  1\n",
      "[<__main__.TreeNode object at 0x7fbb6c3364e0>, <__main__.TreeNode object at 0x7fbb6c336400>]\n",
      "root :  3\n",
      "right:  4\n",
      "[<__main__.TreeNode object at 0x7fbb6c336400>, <__main__.TreeNode object at 0x7fbb6c336048>]\n",
      "root :  6\n",
      "right:  7\n",
      "[<__main__.TreeNode object at 0x7fbb6c336048>, <__main__.TreeNode object at 0x7fbb6c3363c8>]\n",
      "root :  9\n",
      "right:  10\n",
      "[<__main__.TreeNode object at 0x7fbb6c3363c8>, <__main__.TreeNode object at 0x7fbb6c336240>]\n",
      "root :  4\n",
      "[<__main__.TreeNode object at 0x7fbb6c336240>]\n",
      "root :  7\n",
      "[]\n",
      "root :  10\n"
     ]
    }
   ],
   "source": [
    "bfs(tree)"
   ]
  },
  {
   "cell_type": "code",
   "execution_count": 35,
   "metadata": {
    "collapsed": false
   },
   "outputs": [],
   "source": [
    "b=[0]"
   ]
  },
  {
   "cell_type": "code",
   "execution_count": 36,
   "metadata": {
    "collapsed": false
   },
   "outputs": [
    {
     "data": {
      "text/plain": [
       "<__main__.TreeNode at 0x7fbb6c359400>"
      ]
     },
     "execution_count": 36,
     "metadata": {},
     "output_type": "execute_result"
    }
   ],
   "source": [
    "soln.sortedArrayToBST(b)"
   ]
  },
  {
   "cell_type": "code",
   "execution_count": null,
   "metadata": {
    "collapsed": true
   },
   "outputs": [],
   "source": []
  }
 ],
 "metadata": {
  "anaconda-cloud": {},
  "kernelspec": {
   "display_name": "Python [conda env:aind]",
   "language": "python",
   "name": "conda-env-aind-py"
  },
  "language_info": {
   "codemirror_mode": {
    "name": "ipython",
    "version": 3
   },
   "file_extension": ".py",
   "mimetype": "text/x-python",
   "name": "python",
   "nbconvert_exporter": "python",
   "pygments_lexer": "ipython3",
   "version": "3.6.0"
  }
 },
 "nbformat": 4,
 "nbformat_minor": 1
}
