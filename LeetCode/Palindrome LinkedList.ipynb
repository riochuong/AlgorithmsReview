{
 "cells": [
  {
   "cell_type": "markdown",
   "metadata": {},
   "source": [
    "Given a singly linked list, determine if it is a palindrome.\n",
    "\n",
    "Follow up:\n",
    "Could you do it in O(n) time and O(1) space?\n",
    "\n"
   ]
  },
  {
   "cell_type": "code",
   "execution_count": 110,
   "metadata": {
    "collapsed": true
   },
   "outputs": [],
   "source": [
    "# Definition for singly-linked list.\n",
    "class ListNode(object):\n",
    "    def __init__(self, x):\n",
    "        self.val = x\n",
    "        self.next = None\n",
    "\n",
    "        \n",
    "        \n",
    "class Solution(object):\n",
    "    def isPalindrome(self, head):\n",
    "        \"\"\"\n",
    "        :type head: ListNode\n",
    "        :rtype: bool\n",
    "        \"\"\"\n",
    "        if head == None:\n",
    "            return True\n",
    "        \n",
    "        if head.next == None:\n",
    "            return True\n",
    "        \n",
    "        listSize = 0\n",
    "        headPtr = head\n",
    "        isPalindrome = False\n",
    "        tailPtr = None\n",
    "        # find out the size of linkedlist\n",
    "        while headPtr:\n",
    "            tailPtr = headPtr\n",
    "            headPtr = headPtr.next\n",
    "            listSize += 1\n",
    "            \n",
    "        # reversed the linked list\n",
    "        # reversedHead = self.__reverseTheLinkedList(head)\n",
    "        halfSize = listSize // 2\n",
    "        halfHead = head\n",
    "        #print(reversedHead)\n",
    "        #print(\"reversed head \",reversedHead.val)\n",
    "        #print(\"half \", halfSize)\n",
    "        #print(\"half head\", halfHead.val)\n",
    "        # find the middle level of the list\n",
    "        for i in range(halfSize):\n",
    "            halfHead = halfHead.next\n",
    "        # reversed the half head\n",
    "        self.__reverseTheLinkedList(halfHead)\n",
    "        # check if palindrome\n",
    "        for i in range(halfSize):\n",
    "            if head.val != tailPtr.val :\n",
    "                return False\n",
    "            # move to next elelment\n",
    "            head = head.next\n",
    "            tailPtr = tailPtr.next\n",
    "        \n",
    "        return True\n",
    "        \n",
    "        \n",
    "        \n",
    "    def __reverseTheLinkedList(self, head):\n",
    "        '''\n",
    "           type: ListNode\n",
    "           rtype: None\n",
    "        '''\n",
    "        #print (\"node: \",head)\n",
    "        midPtr = head\n",
    "        prevPtr = None\n",
    "        nextPtr = head.next\n",
    "        while midPtr != None:\n",
    "            midPtr.next = prevPtr\n",
    "            prevPtr = midPtr\n",
    "            midPtr = nextPtr\n",
    "            # avoid Nont pointer dereference\n",
    "            if (nextPtr):\n",
    "                nextPtr = nextPtr.next\n",
    "        # reassign head ptr    \n",
    "        return prevPtr\n",
    "            "
   ]
  },
  {
   "cell_type": "code",
   "execution_count": 115,
   "metadata": {
    "collapsed": true
   },
   "outputs": [],
   "source": [
    "head = ListNode(1)\n",
    "head.next = ListNode(9)\n",
    "head.next.next = ListNode(0)\n",
    "head.next.next.next = ListNode(8)\n",
    "head.next.next.next.next = ListNode(1)"
   ]
  },
  {
   "cell_type": "code",
   "execution_count": 116,
   "metadata": {
    "collapsed": false
   },
   "outputs": [
    {
     "data": {
      "text/plain": [
       "False"
      ]
     },
     "execution_count": 116,
     "metadata": {},
     "output_type": "execute_result"
    }
   ],
   "source": [
    "soln = Solution()\n",
    "soln.isPalindrome(head)"
   ]
  },
  {
   "cell_type": "markdown",
   "metadata": {},
   "source": [
    "### My Solution Details:\n",
    "\n",
    "Find linkedlist Length <br>\n",
    "Reversed half of the linkedlist<br>\n",
    "Compare head/tail ptr to see if they are matched <br>\n"
   ]
  },
  {
   "cell_type": "code",
   "execution_count": null,
   "metadata": {
    "collapsed": true
   },
   "outputs": [],
   "source": []
  },
  {
   "cell_type": "code",
   "execution_count": null,
   "metadata": {
    "collapsed": true
   },
   "outputs": [],
   "source": []
  }
 ],
 "metadata": {
  "kernelspec": {
   "display_name": "Python [conda env:deep_learning]",
   "language": "python",
   "name": "conda-env-deep_learning-py"
  },
  "language_info": {
   "codemirror_mode": {
    "name": "ipython",
    "version": 3
   },
   "file_extension": ".py",
   "mimetype": "text/x-python",
   "name": "python",
   "nbconvert_exporter": "python",
   "pygments_lexer": "ipython3",
   "version": "3.5.2"
  }
 },
 "nbformat": 4,
 "nbformat_minor": 1
}
