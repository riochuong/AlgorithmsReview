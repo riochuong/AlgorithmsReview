{
 "cells": [
  {
   "cell_type": "markdown",
   "metadata": {},
   "source": [
    "Given a binary search tree (BST), find the lowest common ancestor (LCA) of two given nodes in the BST.\n",
    "\n",
    "According to the definition of LCA on Wikipedia: “The lowest common ancestor is defined between two nodes v and w as the lowest node in T that has both v and w as descendants (where we allow a node to be a descendant of itself).”\n",
    "\n",
    "        _______6______\n",
    "       /              \\\n",
    "    ___2__          ___8__\n",
    "   /      \\        /      \\\n",
    "   0      _4       7       9\n",
    "         /  \\\n",
    "         3   5\n",
    "For example, the lowest common ancestor (LCA) of nodes 2 and 8 is 6. Another example is LCA of nodes 2 and 4 is 2, since a node can be a descendant of itself according to the LCA definition.\n",
    "\n"
   ]
  },
  {
   "cell_type": "code",
   "execution_count": 5,
   "metadata": {
    "collapsed": false
   },
   "outputs": [],
   "source": [
    "# Definition for a binary tree node.\n",
    "# class TreeNode(object):\n",
    "#     def __init__(self, x):\n",
    "#         self.val = x\n",
    "#         self.left = None\n",
    "#         self.right = None\n",
    "\n",
    "class Solution(object):\n",
    "    def lowestCommonAncestor(self, root, p, q):\n",
    "        \"\"\"\n",
    "        :type root: TreeNode\n",
    "        :type p: TreeNode\n",
    "        :type q: TreeNode\n",
    "        :rtype: TreeNode\n",
    "        \"\"\"\n",
    "        if (not root) or (not p) or (not q):\n",
    "            return None\n",
    "        # same node passed in \n",
    "        if p == q :\n",
    "            return p\n",
    "        \n",
    "        # if nodes are both on the right side then root should be smallest \n",
    "        if ((p.val >= root.val) and (q.val <= root.val)):\n",
    "            return root\n",
    "        elif ((p.val <= root.val) and (q.val >= root.val)):\n",
    "            return root\n",
    "        else:\n",
    "            if (p.val < root.val) and (q.val < root.val):\n",
    "                return self.lowestCommonAncestor(root.left, p ,q)\n",
    "            else:\n",
    "                return self.lowestCommonAncestor(root.right, p ,q)\n",
    "        \n",
    "        \n",
    "        \n",
    "        \n",
    "            "
   ]
  },
  {
   "cell_type": "code",
   "execution_count": null,
   "metadata": {
    "collapsed": true
   },
   "outputs": [],
   "source": [
    "\n"
   ]
  }
 ],
 "metadata": {
  "kernelspec": {
   "display_name": "Python [conda env:deep_learning]",
   "language": "python",
   "name": "conda-env-deep_learning-py"
  },
  "language_info": {
   "codemirror_mode": {
    "name": "ipython",
    "version": 3
   },
   "file_extension": ".py",
   "mimetype": "text/x-python",
   "name": "python",
   "nbconvert_exporter": "python",
   "pygments_lexer": "ipython3",
   "version": "3.5.2"
  }
 },
 "nbformat": 4,
 "nbformat_minor": 1
}
