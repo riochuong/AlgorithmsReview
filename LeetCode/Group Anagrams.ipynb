{
 "cells": [
  {
   "cell_type": "markdown",
   "metadata": {
    "deletable": true,
    "editable": true
   },
   "source": [
    "Given an array of strings, group anagrams together.<br>\n",
    "\n",
    "For example, given: [\"eat\", \"tea\", \"tan\", \"ate\", \"nat\", \"bat\"], <br>\n",
    "Return:<br>\n",
    "\n",
    "[\n",
    "  [\"ate\", \"eat\",\"tea\"],<br>\n",
    "  [\"nat\",\"tan\"],<br>\n",
    "  [\"bat\"]<br>\n",
    "]<br>\n",
    "\n",
    "Note: All inputs will be in lower-case."
   ]
  },
  {
   "cell_type": "code",
   "execution_count": 71,
   "metadata": {
    "collapsed": false,
    "deletable": true,
    "editable": true
   },
   "outputs": [],
   "source": [
    "class Solution(object):\n",
    "    def groupAnagrams(self, strs):\n",
    "        anagramTable = {}\n",
    "        \"\"\"\n",
    "        :type strs: List[str]\n",
    "        :rtype: List[List[str]]\n",
    "        \"\"\"\n",
    "        #iterate through each node\n",
    "        for word in strs:\n",
    "            unique_key = self.getUniqueString(word)\n",
    "            #hash key to table\n",
    "            if unique_key in anagramTable:\n",
    "                anagramTable[unique_key].append(word)\n",
    "            else:\n",
    "                anagramTable[unique_key] = [word]\n",
    "            \n",
    "        # return results here\n",
    "        results = []\n",
    "        for key in anagramTable:\n",
    "            results.append(anagramTable[key])\n",
    "        \n",
    "        #print(anagramTable)\n",
    "        return results\n",
    "    \n",
    "    \"\"\"\n",
    "    This is the key function for the solution\n",
    "    Anagrams will have the same key which constructed by word count of \n",
    "    each of the 26 characters. That can be used for hashtable to improve the running time.\n",
    "    \n",
    "    \"\"\"\n",
    "    def getUniqueString(self, word):\n",
    "        char_counts = [0] * 26\n",
    "        unique_key = \"\"\n",
    "        for c in word:\n",
    "            char_counts[ord(c) - ord('a')] += 1\n",
    "        for i in range(len(char_counts)):\n",
    "            unique_key += str(char_counts[i])\n",
    "        return unique_key\n",
    "        \n",
    "# not needed                   \n",
    "#     def isAnagrams(self, root, word):\n",
    "#         \"\"\"\n",
    "#          check if word is an anagram of root\n",
    "#          assume root and word is string\n",
    "#         \"\"\"\n",
    "#         root_char_counts = [0] * 26\n",
    "#         word_char_counts = [0] * 26\n",
    "#         for c in root:\n",
    "#             root_char_counts[ord(c) - ord('a')] += 1\n",
    "#         # count char in     \n",
    "#         for c in word:\n",
    "#             word_char_counts[ord(c) - ord('a')] += 1\n",
    "        \n",
    "#         res = sum([root_char_counts[i]^word_char_counts[i] for i in range(len(root_char_counts))]) \n",
    "        \n",
    "#         return res == 0\n",
    "        \n",
    "        \n",
    "            "
   ]
  },
  {
   "cell_type": "markdown",
   "metadata": {
    "deletable": true,
    "editable": true
   },
   "source": [
    "### Solution Discussion:\n",
    "Anagrams: same number of characters but in different orders.\n",
    "\n",
    "Need a function to check if a word is anangram of a root word\n",
    "Know the runtime of the function\n",
    "\n",
    "#### Bruteforce:\n",
    "    for each_word:\n",
    "        go through the list and check if any of the words are it anagrams\n",
    "        put them in the hashtable with list \n",
    "    quadratic runtime. Space is O(n) depends on the size of the input \n",
    "\n",
    "#### Better:\n",
    "    can we do it in one iteration? yes \n",
    "    iterate through each word<br>\n",
    "    check if they are anagrams of any word already in the hashtable<br>\n",
    "    This is still slow<br>\n",
    "#### Best:<br>\n",
    "    Anagrams will have the same key which constructed by word count of \n",
    "    each of the 26 characters. That can be used for hashtable to improve the running time.\n",
    "\n",
    "#### Running time:\n",
    "    K is the largest size of the strings\n",
    "    N length of the input arrays\n",
    "    Running time: <br>\n",
    "        O(N * K) => go through each characters of K-length string and do it on N strings\n",
    "    Space : <br>\n",
    "        O(N*K) => store N string of K-length on a hastable.\n",
    "##### NOTE: \n",
    "    We can use python tuple as key for the dict also as long as the item in it is immutable.\n",
    "    \n",
    "    \n",
    "        \n"
   ]
  },
  {
   "cell_type": "code",
   "execution_count": 74,
   "metadata": {
    "collapsed": true,
    "deletable": true,
    "editable": true
   },
   "outputs": [],
   "source": [
    "short_input = [\"eat\", \"tea\", \"tan\", \"ate\", \"nat\", \"bat\"]"
   ]
  },
  {
   "cell_type": "code",
   "execution_count": 72,
   "metadata": {
    "collapsed": true,
    "deletable": true,
    "editable": true
   },
   "outputs": [],
   "source": [
    "long_input = [\"compilations\",\"bewailed\",\"horology\",\"lactated\",\"blindsided\",\"swoop\",\"foretasted\",\"ware\",\"abuts\",\"stepchild\",\"arriving\",\"magnet\",\"vacating\",\"relegates\",\"scale\",\"melodically\",\"proprietresses\",\"parties\",\"ambiguities\",\"bootblacks\",\"shipbuilders\",\"umping\",\"belittling\",\"lefty\",\"foremost\",\"bifocals\",\"moorish\",\"temblors\",\"edited\",\"hint\",\"serenest\",\"rendezvousing\",\"schoolmate\",\"fertilizers\",\"daiquiri\",\"starr\",\"federate\",\"rectal\",\"case\",\"kielbasas\",\"monogamous\",\"inflectional\",\"zapata\",\"permitted\",\"concessions\",\"easters\",\"communique\",\"angelica\",\"shepherdess\",\"jaundiced\",\"breaks\",\"raspy\",\"harpooned\",\"innocence\",\"craters\",\"cajun\",\"pueblos\",\"housetop\",\"traits\",\"bluejacket\",\"pete\",\"snots\",\"wagging\",\"tangling\",\"cheesecakes\",\"constructing\",\"balanchine\",\"paralyzed\",\"aftereffects\",\"dotingly\",\"definitions\",\"renovations\",\"surfboards\",\"lifework\",\"knacking\",\"apprises\",\"minimalism\",\"skyrocketed\",\"artworks\",\"instrumentals\",\"eardrums\",\"hunching\",\"codification\",\"vainglory\",\"clarendon\",\"peters\",\"weeknight\",\"statistics\",\"ay\",\"aureomycin\",\"lorrie\",\"compassed\",\"speccing\",\"galen\",\"concerto\",\"rocky\",\"derision\",\"exonerate\",\"sultrier\",\"mastoids\",\"repackage\",\"cyclical\",\"gowns\",\"regionalism\",\"supplementary\",\"bierce\",\"darby\",\"memorize\",\"songster\",\"biplane\",\"calibrates\",\"decriminalizes\",\"shack\",\"idleness\",\"confessions\",\"snippy\",\"barometer\",\"earthing\",\"sequence\",\"hastiness\",\"emitted\",\"superintends\",\"stockades\",\"busywork\",\"dvina\",\"aggravated\",\"furbelow\",\"hashish\",\"overextended\",\"foreordain\",\"lie\",\"insurance\",\"recollected\",\"interpreted\",\"congregate\",\"ranks\",\"juts\",\"dampen\",\"gaits\",\"eroticism\",\"neighborhoods\",\"perihelion\",\"simulations\",\"fumigating\",\"balkiest\",\"semite\",\"epicure\",\"heavier\",\"masterpiece\",\"bettering\",\"lizzie\",\"wail\",\"batsmen\",\"unbolt\",\"cudgeling\",\"bungalow\",\"behalves\",\"refurnishes\",\"pram\",\"spoonerisms\",\"cornered\",\"rises\",\"encroachments\",\"gabon\",\"cultivation\",\"parsed\",\"takeovers\",\"stampeded\",\"persia\",\"devotional\",\"doorbells\",\"psalms\",\"cains\",\"copulated\",\"archetypal\",\"cursores\",\"inbred\",\"paradigmatic\",\"thesauri\",\"rose\",\"stopcocks\",\"weakness\",\"ballsier\",\"jagiellon\",\"torches\",\"hover\",\"conservationists\",\"brightening\",\"dotted\",\"rodgers\",\"mandalay\",\"overjoying\",\"supervision\",\"gonads\",\"portage\",\"crap\",\"capers\",\"posy\",\"collateral\",\"funny\",\"garvey\",\"ravenously\",\"arias\",\"kirghiz\",\"elton\",\"gambolled\",\"highboy\",\"kneecaps\",\"southey\",\"etymology\",\"overeager\",\"numbers\",\"ebullience\",\"unseemly\",\"airbrushes\",\"excruciating\",\"gemstones\",\"juiciest\",\"muftis\",\"shadowing\",\"organically\",\"plume\",\"guppy\",\"obscurely\",\"clinker\",\"confederacies\",\"unhurried\",\"monastic\",\"witty\",\"breastbones\",\"ijsselmeer\",\"dublin\",\"linnaeus\",\"dervish\",\"bluefish\",\"selectric\",\"syllable\",\"pogroms\",\"pacesetters\",\"anastasia\",\"pandora\",\"foci\",\"bipartisan\",\"loomed\",\"emits\",\"gracious\",\"warfare\",\"uncouples\",\"augusts\",\"portray\",\"refinery\",\"resonances\",\"expediters\",\"deputations\",\"indubitably\",\"richly\",\"motivational\",\"gringo\",\"hubris\",\"mislay\",\"scad\",\"lambastes\",\"reemerged\",\"wart\",\"zirconium\",\"linus\",\"moussorgsky\",\"swopped\",\"sufferer\",\"sputtered\",\"tamed\",\"merrimack\",\"conglomerate\",\"blaspheme\",\"overcompensate\",\"rheas\",\"pares\",\"ranted\",\"prisoning\",\"rumor\",\"gabbles\",\"lummox\",\"lactated\",\"unzipping\",\"tirelessly\",\"backdate\",\"puzzling\",\"interject\",\"rejections\",\"bust\",\"centered\",\"oxymoron\",\"tangibles\",\"sejong\",\"not\",\"tameness\",\"consumings\",\"prostrated\",\"rowdyism\",\"ardent\",\"macabre\",\"rustics\",\"dodoes\",\"warheads\",\"wraths\",\"bournemouth\",\"staffers\",\"retold\",\"stiflings\",\"petrifaction\",\"larkspurs\",\"crunching\",\"clanks\",\"briefest\",\"clinches\",\"attaching\",\"extinguished\",\"ryder\",\"shiny\",\"antiqued\",\"gags\",\"assessments\",\"simulated\",\"dialed\",\"confesses\",\"livelongs\",\"dimensions\",\"lodgings\",\"cormorants\",\"canaries\",\"spineless\",\"widening\",\"chappaquiddick\",\"blurry\",\"lassa\",\"vilyui\",\"desertions\",\"trinket\",\"teamed\",\"bidets\",\"mods\",\"lessors\",\"impressiveness\",\"subjugated\",\"rumpuses\",\"swamies\",\"annotations\",\"batiks\",\"ratliff\",\"waxwork\",\"grander\",\"junta\",\"chutney\",\"exalted\",\"yawl\",\"joke\",\"vocational\",\"diabetic\",\"bullying\",\"edit\",\"losing\",\"banns\",\"doleful\",\"precision\",\"excreting\",\"foals\",\"smarten\",\"soliciting\",\"disturbance\",\"soggily\",\"gabrielle\",\"margret\",\"faded\",\"pane\",\"jerusalem\",\"bedpan\",\"overtaxed\",\"brigs\",\"honors\",\"repackage\",\"croissants\",\"kirov\",\"crummier\",\"limeades\",\"grandson\",\"criers\",\"bring\",\"jaundicing\",\"omnibusses\",\"gawking\",\"tonsillectomies\",\"deodorizer\",\"nosedove\",\"commence\",\"faulkner\",\"adultery\",\"shakedown\",\"wigwag\",\"wiper\",\"compatible\",\"ultra\",\"adamant\",\"distillation\",\"gestates\",\"semi\",\"inmate\",\"onlookers\",\"grudgingly\",\"recipe\",\"chaise\",\"dialectal\",\"aphids\",\"flimsier\",\"orgasm\",\"sobs\",\"swellheaded\",\"utilize\",\"karenina\",\"irreparably\",\"preteen\",\"mumble\",\"gingersnaps\",\"alumnus\",\"chummiest\",\"snobbish\",\"crawlspaces\",\"inappropriate\",\"ought\",\"continence\",\"hydrogenate\",\"eskimo\",\"desolated\",\"oceanic\",\"evasive\",\"sake\",\"laziest\",\"tramps\",\"joyridden\",\"acclimatized\",\"riffraff\",\"thanklessly\",\"harmonizing\",\"guinevere\",\"demanded\",\"capabler\",\"syphilitics\",\"brainteaser\",\"creamers\",\"upholds\",\"stiflings\",\"walt\",\"luau\",\"deafen\",\"concretely\",\"unhand\",\"animations\",\"map\",\"limbos\",\"tranquil\",\"windbreakers\",\"limoges\",\"varying\",\"declensions\",\"signs\",\"green\",\"snowbelt\",\"homosexual\",\"hopping\",\"residue\",\"ransacked\",\"emeritus\",\"pathologist\",\"brazenly\",\"forbiddingly\",\"alfredo\",\"glummest\",\"deciphered\",\"delusive\",\"repentant\",\"complainants\",\"beets\",\"syntactics\",\"vicissitude\",\"incompetents\",\"concur\",\"canaan\",\"rowdies\",\"streamer\",\"martinets\",\"shapeliness\",\"videodiscs\",\"restfulness\",\"rhea\",\"consumed\",\"pooching\",\"disenfranchisement\",\"impoverishes\",\"behalf\",\"unsuccessfully\",\"complicity\",\"ulcerating\",\"derisive\",\"jephthah\",\"clearing\",\"reputation\",\"kansan\",\"sledgehammer\",\"benchmarks\",\"escutcheon\",\"portfolios\",\"mandolins\",\"marketable\",\"megalomaniacs\",\"kinking\",\"bombarding\",\"wimple\",\"perishes\",\"rukeyser\",\"squatter\",\"coddle\",\"traditionalists\",\"sifts\",\"agglomerations\",\"seasonings\",\"brightness\",\"spices\",\"claimant\",\"sofas\",\"ambulatories\",\"bothered\",\"businessmen\",\"orly\",\"kinetic\",\"contracted\",\"grenadiers\",\"flooding\",\"dissolved\",\"corroboration\",\"mussed\",\"squareness\",\"alabamans\",\"dandelions\",\"labyrinthine\",\"pot\",\"waxwing\",\"residential\",\"pizza\",\"overjoying\",\"whelps\",\"overlaying\",\"elanor\",\"tented\",\"masterminded\",\"balsamed\",\"powerhouses\",\"tramps\",\"eisenstein\",\"voile\",\"repellents\",\"beaus\",\"coordinated\",\"wreckers\",\"eternities\",\"untwists\",\"estrangements\",\"vitreous\",\"embodied\"]"
   ]
  },
  {
   "cell_type": "code",
   "execution_count": 75,
   "metadata": {
    "collapsed": false,
    "deletable": true,
    "editable": true
   },
   "outputs": [
    {
     "name": "stdout",
     "output_type": "stream",
     "text": [
      "{'eat': ['eat', 'tea', 'ate'], 'tan': ['tan', 'nat'], 'bat': ['bat']}\n"
     ]
    },
    {
     "data": {
      "text/plain": [
       "[['eat', 'tea', 'ate'], ['tan', 'nat'], ['bat']]"
      ]
     },
     "execution_count": 75,
     "metadata": {},
     "output_type": "execute_result"
    }
   ],
   "source": [
    "soln.groupAnagrams(short_input)"
   ]
  },
  {
   "cell_type": "code",
   "execution_count": 70,
   "metadata": {
    "collapsed": false,
    "deletable": true,
    "editable": true
   },
   "outputs": [
    {
     "ename": "AttributeError",
     "evalue": "'str' object has no attribute 'sort'",
     "output_type": "error",
     "traceback": [
      "\u001b[0;31m---------------------------------------------------------------------------\u001b[0m",
      "\u001b[0;31mAttributeError\u001b[0m                            Traceback (most recent call last)",
      "\u001b[0;32m<ipython-input-70-ad4d80fa4a41>\u001b[0m in \u001b[0;36m<module>\u001b[0;34m()\u001b[0m\n\u001b[1;32m      1\u001b[0m \u001b[0ma\u001b[0m \u001b[0;34m=\u001b[0m \u001b[0;34m\"art\"\u001b[0m\u001b[0;34m\u001b[0m\u001b[0m\n\u001b[0;32m----> 2\u001b[0;31m \u001b[0ma\u001b[0m\u001b[0;34m.\u001b[0m\u001b[0msort\u001b[0m\u001b[0;34m(\u001b[0m\u001b[0;34m)\u001b[0m\u001b[0;34m\u001b[0m\u001b[0m\n\u001b[0m",
      "\u001b[0;31mAttributeError\u001b[0m: 'str' object has no attribute 'sort'"
     ]
    }
   ],
   "source": []
  },
  {
   "cell_type": "code",
   "execution_count": null,
   "metadata": {
    "collapsed": true,
    "deletable": true,
    "editable": true
   },
   "outputs": [],
   "source": []
  }
 ],
 "metadata": {
  "kernelspec": {
   "display_name": "Python 3",
   "language": "python",
   "name": "python3"
  },
  "language_info": {
   "codemirror_mode": {
    "name": "ipython",
    "version": 3
   },
   "file_extension": ".py",
   "mimetype": "text/x-python",
   "name": "python",
   "nbconvert_exporter": "python",
   "pygments_lexer": "ipython3",
   "version": "3.6.0"
  }
 },
 "nbformat": 4,
 "nbformat_minor": 2
}
