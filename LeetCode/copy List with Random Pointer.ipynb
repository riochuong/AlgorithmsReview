{
 "cells": [
  {
   "cell_type": "markdown",
   "metadata": {},
   "source": [
    "### copy List with Random Pointer\n"
   ]
  },
  {
   "cell_type": "markdown",
   "metadata": {},
   "source": [
    "A linked list is given such that each node contains an additional random pointer which could point to any node in the list or null.\n",
    "\n",
    "Return a deep copy of the list.\n",
    "\n"
   ]
  },
  {
   "cell_type": "code",
   "execution_count": null,
   "metadata": {
    "collapsed": true
   },
   "outputs": [],
   "source": [
    "# Definition for singly-linked list with a random pointer.\n",
    "# class RandomListNode(object):\n",
    "#     def __init__(self, x):\n",
    "#         self.label = x\n",
    "#         self.next = None\n",
    "#         self.random = None\n",
    "\n",
    "class Solution(object):\n",
    "    def copyRandomList(self, head):\n",
    "        \"\"\"\n",
    "        :type head: RandomListNode\n",
    "        :rtype: RandomListNode\n",
    "        \"\"\"\n",
    "        if (not head):\n",
    "            return None\n",
    "        # map old node to its corresponding new one \n",
    "        newHead = RandomListNode(head.label)\n",
    "        oldHeadPtr = head\n",
    "        newHeadPtr = newHead\n",
    "        nodeMap = {head:newHead}\n",
    "        while (oldHeadPtr):\n",
    "            # fix the next ptr  \n",
    "            if oldHeadPtr.next != None:\n",
    "                newNode = None\n",
    "                if oldHeadPtr.next in nodeMap:\n",
    "                    newNode = nodeMap[oldHeadPtr.next]\n",
    "                else:\n",
    "                    newNode = RandomListNode(oldHeadPtr.next.label)\n",
    "                    nodeMap[oldHeadPtr.next] = newNode\n",
    "                newHeadPtr.next = newNode    \n",
    "            # fix the random ptr\n",
    "            if oldHeadPtr.random != None:\n",
    "                newNode = None\n",
    "                if oldHeadPtr.random in nodeMap:\n",
    "                    newNode = nodeMap[oldHeadPtr.random]\n",
    "                else:\n",
    "                    newNode = RandomListNode(oldHeadPtr.random.label)\n",
    "                    nodeMap[oldHeadPtr.random] = newNode\n",
    "                newHeadPtr.random = newNode\n",
    "            # move the pointer forward\n",
    "            oldHeadPtr = oldHeadPtr.next\n",
    "            newHeadPtr = newHeadPtr.next\n",
    "        return newHead\n",
    "                    "
   ]
  },
  {
   "cell_type": "code",
   "execution_count": null,
   "metadata": {
    "collapsed": true
   },
   "outputs": [],
   "source": []
  }
 ],
 "metadata": {
  "anaconda-cloud": {},
  "kernelspec": {
   "display_name": "Python [conda env:deep_learning]",
   "language": "python",
   "name": "conda-env-deep_learning-py"
  },
  "language_info": {
   "codemirror_mode": {
    "name": "ipython",
    "version": 3
   },
   "file_extension": ".py",
   "mimetype": "text/x-python",
   "name": "python",
   "nbconvert_exporter": "python",
   "pygments_lexer": "ipython3",
   "version": "3.5.2"
  }
 },
 "nbformat": 4,
 "nbformat_minor": 1
}
