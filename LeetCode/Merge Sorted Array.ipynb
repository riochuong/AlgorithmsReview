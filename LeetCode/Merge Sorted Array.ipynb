{
 "cells": [
  {
   "cell_type": "markdown",
   "metadata": {},
   "source": [
    "Given two sorted integer arrays nums1 and nums2, merge nums2 into nums1 as one sorted array.\n",
    "\n",
    "Note:\n",
    "You may assume that nums1 has enough space (size that is greater or equal to m + n) to hold additional elements from nums2. The number of elements initialized in nums1 and nums2 are m and n respectively.\n",
    "\n"
   ]
  },
  {
   "cell_type": "code",
   "execution_count": 35,
   "metadata": {
    "collapsed": true
   },
   "outputs": [],
   "source": [
    "class Solution(object):\n",
    "    def merge(self, nums1, m, nums2, n):\n",
    "        \"\"\"\n",
    "        :type nums1: List[int]\n",
    "        :type m: int\n",
    "        :type nums2: List[int]\n",
    "        :type n: int\n",
    "        :rtype: void Do not return anything, modify nums1 in-place instead.\n",
    "        \"\"\"\n",
    "        if len(nums1) < (m + n):\n",
    "            print(\"nums1 must be long enough to contains nums2 \")\n",
    "            return\n",
    "        # invalid conditions\n",
    "        if (not nums1) or (not nums2) or (m < 0) or (n <0):\n",
    "            return\n",
    "        \n",
    "        # the trick here is to merge from the end forward so we dont have to keep pushing back\n",
    "        # the array from beginning\n",
    "        lastIndexAfterMerge = m + n - 1\n",
    "        nums1LastIdx = m - 1\n",
    "        nums2LastIdx = n - 1\n",
    "        \n",
    "        # let's merge two arrays\n",
    "        while (nums1LastIdx >= 0) and (nums2LastIdx >= 0):\n",
    "            if (nums1[nums1LastIdx] <= nums2[nums2LastIdx]):\n",
    "                nums1[lastIndexAfterMerge] = nums2[nums2LastIdx]\n",
    "                nums2LastIdx -= 1\n",
    "            else:\n",
    "                nums1[lastIndexAfterMerge] = nums1[nums1LastIdx]\n",
    "                nums1LastIdx -= 1\n",
    "            lastIndexAfterMerge -= 1\n",
    "        \n",
    "        # fill up the rest\n",
    "        for i in range(nums2LastIdx+1):\n",
    "            nums1[i] = nums2[i]\n",
    "            \n",
    "            "
   ]
  },
  {
   "cell_type": "code",
   "execution_count": 36,
   "metadata": {
    "collapsed": true
   },
   "outputs": [],
   "source": [
    "a = [1,2,3,4,5,6,0,0,0]\n",
    "b = [3,4,5]\n"
   ]
  },
  {
   "cell_type": "code",
   "execution_count": 37,
   "metadata": {
    "collapsed": true
   },
   "outputs": [],
   "source": [
    "soln = Solution()"
   ]
  },
  {
   "cell_type": "code",
   "execution_count": 38,
   "metadata": {
    "collapsed": false
   },
   "outputs": [],
   "source": [
    "soln.merge(a,6,b,3)"
   ]
  },
  {
   "cell_type": "code",
   "execution_count": 39,
   "metadata": {
    "collapsed": false
   },
   "outputs": [
    {
     "data": {
      "text/plain": [
       "[1, 2, 3, 3, 4, 4, 5, 5, 6]"
      ]
     },
     "execution_count": 39,
     "metadata": {},
     "output_type": "execute_result"
    }
   ],
   "source": [
    "a"
   ]
  },
  {
   "cell_type": "code",
   "execution_count": null,
   "metadata": {
    "collapsed": true
   },
   "outputs": [],
   "source": []
  }
 ],
 "metadata": {
  "anaconda-cloud": {},
  "kernelspec": {
   "display_name": "Python [conda env:deep_learning]",
   "language": "python",
   "name": "conda-env-deep_learning-py"
  },
  "language_info": {
   "codemirror_mode": {
    "name": "ipython",
    "version": 3
   },
   "file_extension": ".py",
   "mimetype": "text/x-python",
   "name": "python",
   "nbconvert_exporter": "python",
   "pygments_lexer": "ipython3",
   "version": "3.5.2"
  }
 },
 "nbformat": 4,
 "nbformat_minor": 1
}
