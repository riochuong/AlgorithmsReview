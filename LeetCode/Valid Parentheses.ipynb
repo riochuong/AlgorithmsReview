{
 "cells": [
  {
   "cell_type": "raw",
   "metadata": {},
   "source": [
    "Given a string containing just the characters '(', ')', '{', '}', '[' and ']', determine if the input string is valid.\n",
    "\n",
    "The brackets must close in the correct order, \"()\" and \"()[]{}\" are all valid but \"(]\" and \"([)]\" are not."
   ]
  },
  {
   "cell_type": "code",
   "execution_count": 17,
   "metadata": {
    "collapsed": true
   },
   "outputs": [],
   "source": [
    "class Solution(object):\n",
    "    def isValid(self, s):\n",
    "        \"\"\"\n",
    "        :type s: str\n",
    "        :rtype: bool\n",
    "        \"\"\"\n",
    "        parenStack = []\n",
    "        for paren in s:\n",
    "            if (paren == '(') or (paren == '[') or (paren == '{'):\n",
    "                parenStack.insert(0, paren)\n",
    "            elif paren == ')':\n",
    "                if len(parenStack) == 0:\n",
    "                    return False\n",
    "                if not (parenStack.pop(0) == \"(\"):\n",
    "                    return False\n",
    "            elif paren == '{':\n",
    "                if len(parenStack) == 0:\n",
    "                    return False\n",
    "                if not (parenStack.pop(0) == \"(\"):\n",
    "                    return False\n",
    "            elif paren == '}':\n",
    "                if len(parenStack) == 0:\n",
    "                    return False\n",
    "                if not (parenStack.pop(0) == \"{\"):\n",
    "                    return False\n",
    "            elif paren == ']':\n",
    "                if len(parenStack) == 0:\n",
    "                    return False\n",
    "                if not (parenStack.pop(0) == \"[\"):\n",
    "                    return False\n",
    "        # some paren does not get matched\n",
    "        if len(parenStack) > 0:\n",
    "            return False\n",
    "        return True    \n",
    "                \n",
    "            \n",
    "        \n",
    "        "
   ]
  },
  {
   "cell_type": "code",
   "execution_count": 18,
   "metadata": {
    "collapsed": false
   },
   "outputs": [],
   "source": [
    "soln = Solution()"
   ]
  },
  {
   "cell_type": "code",
   "execution_count": 22,
   "metadata": {
    "collapsed": false
   },
   "outputs": [
    {
     "data": {
      "text/plain": [
       "True"
      ]
     },
     "execution_count": 22,
     "metadata": {},
     "output_type": "execute_result"
    }
   ],
   "source": [
    "soln.isValid(\"{}({}[]())\")"
   ]
  },
  {
   "cell_type": "code",
   "execution_count": null,
   "metadata": {
    "collapsed": true
   },
   "outputs": [],
   "source": []
  },
  {
   "cell_type": "code",
   "execution_count": null,
   "metadata": {
    "collapsed": true
   },
   "outputs": [],
   "source": []
  }
 ],
 "metadata": {
  "kernelspec": {
   "display_name": "Python 3",
   "language": "python",
   "name": "python3"
  },
  "language_info": {
   "codemirror_mode": {
    "name": "ipython",
    "version": 3
   },
   "file_extension": ".py",
   "mimetype": "text/x-python",
   "name": "python",
   "nbconvert_exporter": "python",
   "pygments_lexer": "ipython3",
   "version": "3.6.0"
  }
 },
 "nbformat": 4,
 "nbformat_minor": 2
}
