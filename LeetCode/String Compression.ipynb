{
 "cells": [
  {
   "cell_type": "markdown",
   "metadata": {},
   "source": [
    "### String Compression\n",
    "\n",
    "Given an array of characters, compress it in-place.\n",
    "\n",
    "The length after compression must always be smaller than or equal to the original array.\n",
    "\n",
    "Every element of the array should be a character (not int) of length 1.\n",
    "\n",
    "After you are done modifying the input array in-place, return the new length of the array.\n",
    "\n",
    "\n",
    "Follow up:\n",
    "Could you solve it using only O(1) extra space?\n",
    "\n",
    "\n",
    "##### Example 1: <br>\n",
    "Input:\n",
    "[\"a\",\"a\",\"b\",\"b\",\"c\",\"c\",\"c\"]\n",
    "\n",
    "Output:\n",
    "Return 6, and the first 6 characters of the input array should be: [\"a\",\"2\",\"b\",\"2\",\"c\",\"3\"]\n",
    "\n",
    "Explanation:\n",
    "\"aa\" is replaced by \"a2\". \"bb\" is replaced by \"b2\". \"ccc\" is replaced by \"c3\".\n",
    "##### Example 2: <br>\n",
    "Input:\n",
    "[\"a\"]\n",
    "\n",
    "Output:\n",
    "Return 1, and the first 1 characters of the input array should be: [\"a\"]\n",
    "\n",
    "Explanation:\n",
    "Nothing is replaced.\n",
    "##### Example 3: <br>\n",
    "Input:\n",
    "[\"a\",\"b\",\"b\",\"b\",\"b\",\"b\",\"b\",\"b\",\"b\",\"b\",\"b\",\"b\",\"b\"]\n",
    "\n",
    "Output:\n",
    "Return 4, and the first 4 characters of the input array should be: [\"a\",\"b\",\"1\",\"2\"].\n",
    "\n",
    "Explanation:\n",
    "Since the character \"a\" does not repeat, it is not compressed. \"bbbbbbbbbbbb\" is replaced by \"b12\".\n",
    "Notice each digit has it's own entry in the array.<br>\n",
    "##### Note:<br>\n",
    "All characters have an ASCII value in [35, 126].\n",
    "1 <= len(chars) <= 1000."
   ]
  },
  {
   "cell_type": "code",
   "execution_count": 62,
   "metadata": {
    "collapsed": false
   },
   "outputs": [],
   "source": [
    "class Solution:\n",
    "    def compress(self, chars):\n",
    "        \"\"\"\n",
    "        :type chars: List[str]\n",
    "        :rtype: int\n",
    "        \"\"\"\n",
    "        countOfChar = 0\n",
    "        previousSeenChar = None\n",
    "        countStartIndex = -1\n",
    "        index = 0\n",
    "        # keep track of index as it will change \n",
    "        # during inplace repalcement \n",
    "        while index <= (len(chars) - 1):\n",
    "            char = chars[index]\n",
    "            #print(countOfChar)\n",
    "            if char == previousSeenChar:\n",
    "                countOfChar += 1\n",
    "            # check if we are seeing the same char\n",
    "            if (not previousSeenChar):\n",
    "                previousSeenChar = char\n",
    "                countOfChar = 1\n",
    "                countStartIndex = index + 1\n",
    "            # if we saw a new one \n",
    "            elif (previousSeenChar != char) or (index == (len(chars) -1)) :\n",
    "                # compress if we have to \n",
    "                if countOfChar > 1:\n",
    "                    # now replace the array with digit char of the count \n",
    "                    startReplace = countStartIndex \n",
    "                    for digit in str(countOfChar):\n",
    "                        chars[countStartIndex] = digit\n",
    "                        countStartIndex += 1\n",
    "                    # now remove extra chars after the count digits\n",
    "                    # and update the current index\n",
    "                    while index > countStartIndex:\n",
    "                        del chars[countStartIndex]\n",
    "                        index -= 1\n",
    "                # update what we've seen and reset the count\n",
    "                if (index != len(chars) -1):\n",
    "                    previousSeenChar = char\n",
    "                    countOfChar = 1\n",
    "                    countStartIndex = index + 1\n",
    "                else:\n",
    "                    # if the last char is not a unique character then \n",
    "                    # we just have to remove it \n",
    "                    if chars[index] == previousSeenChar :\n",
    "                        del chars[index]\n",
    "                        index -= 1\n",
    "            \n",
    "            index += 1\n",
    "            \n",
    "        return len(chars)"
   ]
  },
  {
   "cell_type": "code",
   "execution_count": 63,
   "metadata": {
    "collapsed": true
   },
   "outputs": [],
   "source": [
    "soln = Solution()"
   ]
  },
  {
   "cell_type": "code",
   "execution_count": 64,
   "metadata": {
    "collapsed": false
   },
   "outputs": [
    {
     "data": {
      "text/plain": [
       "6"
      ]
     },
     "execution_count": 64,
     "metadata": {},
     "output_type": "execute_result"
    }
   ],
   "source": [
    "chars = [\"a\",\"a\",\"a\",\"b\",\"b\",\"a\",\"a\"]\n",
    "soln.compress(chars)"
   ]
  },
  {
   "cell_type": "code",
   "execution_count": 133,
   "metadata": {
    "collapsed": false
   },
   "outputs": [],
   "source": [
    "# the trick here is that we \n",
    "# dont have to delete any element in the array \n",
    "# instead using two pointers to traverse the array and\n",
    "# just keep track of the next pointer to keep replace the char \n",
    "# with new char and its count digit\n",
    "# Important thing is to return the correct length of the array \n",
    "class OptimizeSolution:\n",
    "    def compress(self, chars):\n",
    "        \"\"\"\n",
    "        :type chars: List[str]\n",
    "        :rtype: int\n",
    "        \"\"\"\n",
    "        countOfChar = 0\n",
    "        previousSeenChar = None\n",
    "        countStartIndex = -1\n",
    "        index = 0\n",
    "        totalChars = 0\n",
    "        # keep track of index as it will change \n",
    "        # during inplace repalcement \n",
    "        while index <= (len(chars) - 1):\n",
    "            char = chars[index]\n",
    "            #print(countOfChar)\n",
    "            if char == previousSeenChar:\n",
    "                countOfChar += 1\n",
    "            # check if we are seeing the same char\n",
    "            if (not previousSeenChar):\n",
    "                previousSeenChar = char\n",
    "                countOfChar = 1\n",
    "                countStartIndex = index + 1\n",
    "                totalChars += 1\n",
    "            # if we saw a new one \n",
    "            elif (previousSeenChar != char) or (index == (len(chars) -1)) :\n",
    "                # compress if we have to \n",
    "                if previousSeenChar != char:\n",
    "                    totalChars += 1\n",
    "                if countOfChar > 1:\n",
    "                    # now replace the array with digit char of the count \n",
    "                    for digit in str(countOfChar):\n",
    "                        chars[countStartIndex] = digit\n",
    "                        countStartIndex += 1\n",
    "                        totalChars += 1\n",
    "                    if countStartIndex <= (len(chars) - 1):\n",
    "                        chars[countStartIndex] = char\n",
    "                        countStartIndex += 1\n",
    "                else:\n",
    "                    chars[countStartIndex] = char\n",
    "                    countStartIndex += 1\n",
    "                # update what we've seen and reset the count\n",
    "                if (index != len(chars) -1):\n",
    "                    previousSeenChar = char\n",
    "                    countOfChar = 1\n",
    "                \n",
    "            \n",
    "            index += 1\n",
    "            \n",
    "        return totalChars"
   ]
  },
  {
   "cell_type": "code",
   "execution_count": 131,
   "metadata": {
    "collapsed": false
   },
   "outputs": [
    {
     "data": {
      "text/plain": [
       "12"
      ]
     },
     "execution_count": 131,
     "metadata": {},
     "output_type": "execute_result"
    }
   ],
   "source": [
    "chars = [\"a\",\"b\",\"c\",\"d\",\"e\",\"f\",\"g\",\"g\",\"g\",\"g\",\"g\",\"g\",\"g\",\"g\",\"g\",\"g\",\"g\",\"g\",\"a\",\"b\",\"c\"]\n",
    "soln = OptimizeSolution()\n",
    "soln.compress(chars)"
   ]
  },
  {
   "cell_type": "code",
   "execution_count": 132,
   "metadata": {
    "collapsed": false
   },
   "outputs": [
    {
     "data": {
      "text/plain": [
       "['a',\n",
       " 'b',\n",
       " 'c',\n",
       " 'd',\n",
       " 'e',\n",
       " 'f',\n",
       " 'g',\n",
       " '1',\n",
       " '2',\n",
       " 'a',\n",
       " 'b',\n",
       " 'c',\n",
       " 'g',\n",
       " 'g',\n",
       " 'g',\n",
       " 'g',\n",
       " 'g',\n",
       " 'g',\n",
       " 'a',\n",
       " 'b',\n",
       " 'c']"
      ]
     },
     "execution_count": 132,
     "metadata": {},
     "output_type": "execute_result"
    }
   ],
   "source": [
    "chars"
   ]
  },
  {
   "cell_type": "code",
   "execution_count": null,
   "metadata": {
    "collapsed": true
   },
   "outputs": [],
   "source": []
  },
  {
   "cell_type": "code",
   "execution_count": null,
   "metadata": {
    "collapsed": true
   },
   "outputs": [],
   "source": []
  }
 ],
 "metadata": {
  "anaconda-cloud": {},
  "kernelspec": {
   "display_name": "Python [conda env:aind]",
   "language": "python",
   "name": "conda-env-aind-py"
  },
  "language_info": {
   "codemirror_mode": {
    "name": "ipython",
    "version": 3
   },
   "file_extension": ".py",
   "mimetype": "text/x-python",
   "name": "python",
   "nbconvert_exporter": "python",
   "pygments_lexer": "ipython3",
   "version": "3.6.0"
  }
 },
 "nbformat": 4,
 "nbformat_minor": 1
}
