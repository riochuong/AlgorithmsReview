{
 "cells": [
  {
   "cell_type": "raw",
   "metadata": {},
   "source": [
    "Given an array S of n integers, are there elements a, b, c in S such that a + b + c = 0? Find all unique triplets in the array which gives the sum of zero.\n",
    "\n",
    "Note: The solution set must not contain duplicate triplets.\n",
    "\n",
    "For example, given array S = [-1, 0, 1, 2, -1, -4],\n",
    "\n",
    "A solution set is:\n",
    "[\n",
    "  [-1, 0, 1],\n",
    "  [-1, -1, 2]\n",
    "]"
   ]
  },
  {
   "cell_type": "code",
   "execution_count": 118,
   "metadata": {
    "collapsed": false
   },
   "outputs": [],
   "source": [
    "class Solution(object):\n",
    "    def threeSum(self, nums):\n",
    "        \"\"\"\n",
    "        :type nums: List[int]\n",
    "        :rtype: List[List[int]]\n",
    "        \"\"\"\n",
    "        nums.sort()\n",
    "        resSet = set()\n",
    "        for i in range(0, len(nums) - 2):\n",
    "            leftIdx = i + 1\n",
    "            endIdx = len(nums) - 1\n",
    "            # find all the sums\n",
    "            while leftIdx < endIdx:\n",
    "                sum3 = nums[i] + nums[leftIdx] + nums[endIdx]\n",
    "                if sum3 == 0:\n",
    "                    resSet.add((nums[i], nums[leftIdx], nums[endIdx]))\n",
    "                    leftIdx += 1\n",
    "                    if nums[endIdx] == 0:\n",
    "                        break\n",
    "                elif sum3 < 0:\n",
    "                    leftIdx += 1\n",
    "                else: # sum3 > 0\n",
    "                    endIdx -= 1\n",
    "            \n",
    "        return [list(key) for key in resSet]\n",
    "                    \n",
    "            \n",
    "        \n"
   ]
  },
  {
   "cell_type": "code",
   "execution_count": 119,
   "metadata": {
    "collapsed": true
   },
   "outputs": [],
   "source": [
    "soln = Solution()"
   ]
  },
  {
   "cell_type": "code",
   "execution_count": 120,
   "metadata": {
    "collapsed": false
   },
   "outputs": [
    {
     "data": {
      "text/plain": [
       "[[-1, -1, 2], [-1, 0, 1]]"
      ]
     },
     "execution_count": 120,
     "metadata": {},
     "output_type": "execute_result"
    }
   ],
   "source": [
    "soln.threeSum([-1,0,1,2,-1,-4])"
   ]
  },
  {
   "cell_type": "markdown",
   "metadata": {
    "collapsed": true
   },
   "source": [
    "#### CORRECT SOL"
   ]
  },
  {
   "cell_type": "code",
   "execution_count": 84,
   "metadata": {
    "collapsed": true
   },
   "outputs": [],
   "source": [
    "class Solution(object):\n",
    "    def threeSum(self, nums):\n",
    "        \"\"\"\n",
    "        :type nums: List[int]\n",
    "        :rtype: List[List[int]]\n",
    "        \"\"\"\n",
    "        nums.sort()\n",
    "        ans=[]\n",
    "        for l in range(0,len(nums)-2):\n",
    "            i=l+1\n",
    "            r=len(nums)-1\n",
    "            while i<r and i>l:\n",
    "                sum=nums[l]+nums[r]+nums[i]        \n",
    "                if sum==0:\n",
    "                    a=[nums[l],nums[i],nums[r]]\n",
    "                    ans.append(a)\n",
    "                    i+=1\n",
    "                    if nums[r] == 0:\n",
    "                        break\n",
    "                elif sum>0:\n",
    "                    r-=1\n",
    "                else: \n",
    "                    i+=1\n",
    "                    \n",
    "        ans = set(map(tuple, ans))\n",
    "        return list(ans)"
   ]
  },
  {
   "cell_type": "code",
   "execution_count": 85,
   "metadata": {
    "collapsed": true
   },
   "outputs": [],
   "source": [
    "soln = Solution()"
   ]
  },
  {
   "cell_type": "code",
   "execution_count": 86,
   "metadata": {
    "collapsed": false
   },
   "outputs": [
    {
     "data": {
      "text/plain": [
       "[(-1, -1, 2), (-1, 0, 1)]"
      ]
     },
     "execution_count": 86,
     "metadata": {},
     "output_type": "execute_result"
    }
   ],
   "source": [
    "soln.threeSum([-1, 0, 1, 2, -1, -4])"
   ]
  },
  {
   "cell_type": "code",
   "execution_count": null,
   "metadata": {
    "collapsed": true
   },
   "outputs": [],
   "source": []
  },
  {
   "cell_type": "markdown",
   "metadata": {
    "collapsed": true
   },
   "source": [
    "### OLD SOLUTION "
   ]
  },
  {
   "cell_type": "code",
   "execution_count": 121,
   "metadata": {
    "collapsed": true
   },
   "outputs": [],
   "source": [
    "class Solution(object):\n",
    "    def threeSum(self, nums):\n",
    "        \"\"\"\n",
    "        :type nums: List[int]\n",
    "        :rtype: List[List[int]]\n",
    "        \"\"\"\n",
    "        if len(nums) < 3:\n",
    "            return []\n",
    "        nums = sorted(nums)\n",
    "        firstPtr = 0\n",
    "        secondPtr = 1\n",
    "        resList = set()\n",
    "        while firstPtr < (len(nums) - 2):\n",
    "            current_sum = nums[firstPtr] + nums[secondPtr]\n",
    "            if (not (nums[firstPtr] in seenFirstPtr))and ((current_sum < 0) or ((current_sum == 0) and (nums[firstPtr] == 0))):\n",
    "                for i in range(secondPtr + 1, len(nums)):\n",
    "                    totalSum = current_sum + nums[i]\n",
    "                    if totalSum > 0:\n",
    "                        break\n",
    "                    if totalSum == 0:\n",
    "                        tripleTup = (nums[firstPtr], nums[secondPtr], nums[i])\n",
    "                        resList.add(tripleTup)\n",
    "                        break\n",
    "                \n",
    "            \n",
    "            if (current_sum >= 0) or (secondPtr == (len(nums) - 2)):\n",
    "                seenFirstPtr[nums[firstPtr]] = 1\n",
    "                firstPtr += 1\n",
    "                secondPtr = firstPtr + 1\n",
    "                if (nums[firstPtr] + nums[secondPtr]) > 0 :\n",
    "                    break\n",
    "                if ((nums[firstPtr] + nums[secondPtr]) == 0) and (nums[secondPtr] > 0):\n",
    "                    break\n",
    "            else:\n",
    "                secondPtr += 1\n",
    "                \n",
    "            \n",
    "        finalList = [list(key) for key in resList]\n",
    "        return finalList\n",
    "        \n"
   ]
  },
  {
   "cell_type": "code",
   "execution_count": null,
   "metadata": {
    "collapsed": true
   },
   "outputs": [],
   "source": []
  }
 ],
 "metadata": {
  "anaconda-cloud": {},
  "kernelspec": {
   "display_name": "Python [conda env:aind]",
   "language": "python",
   "name": "conda-env-aind-py"
  },
  "language_info": {
   "codemirror_mode": {
    "name": "ipython",
    "version": 3
   },
   "file_extension": ".py",
   "mimetype": "text/x-python",
   "name": "python",
   "nbconvert_exporter": "python",
   "pygments_lexer": "ipython3",
   "version": "3.6.0"
  }
 },
 "nbformat": 4,
 "nbformat_minor": 1
}
