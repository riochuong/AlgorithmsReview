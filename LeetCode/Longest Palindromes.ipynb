{
 "cells": [
  {
   "cell_type": "markdown",
   "metadata": {},
   "source": [
    "Given a string s, find the longest palindromic substring in s. You may assume that the maximum length of s is 1000."
   ]
  },
  {
   "cell_type": "markdown",
   "metadata": {},
   "source": [
    "Example:\n",
    "\n",
    "Input: \"babad\"\n",
    "\n",
    "Output: \"bab\"\n",
    "\n",
    "Note: \"aba\" is also a valid answer.\n",
    "Example:\n",
    "\n",
    "Input: \"cbbd\"\n",
    "\n",
    "Output: \"bb\"\n"
   ]
  },
  {
   "cell_type": "code",
   "execution_count": 5,
   "metadata": {
    "collapsed": false
   },
   "outputs": [
    {
     "data": {
      "text/plain": [
       "[[0, 0, 0], [0, 0, 0], [0, 0, 0]]"
      ]
     },
     "execution_count": 5,
     "metadata": {},
     "output_type": "execute_result"
    }
   ],
   "source": [
    "palindromTable = [[0] * 3] *3\n",
    "palindromTable"
   ]
  },
  {
   "cell_type": "code",
   "execution_count": 170,
   "metadata": {
    "collapsed": true
   },
   "outputs": [],
   "source": [
    "# apply dynamic programming style\n",
    "class Solution(object):\n",
    "    def longestPalindrome(self, s):\n",
    "        \"\"\"\n",
    "        :type s: str\n",
    "        :rtype: str\n",
    "        \"\"\"\n",
    "        # initialize 2 dimens array \n",
    "        if len(s) == 0:\n",
    "            return s\n",
    "        \n",
    "        if not s:\n",
    "            return s\n",
    "        \n",
    "        palindromTable = []\n",
    "        for i in range(len(s)):\n",
    "            palindromTable.append([False for i in range(len(s))])\n",
    "        \n",
    "        longestSize = 1\n",
    "        longestStr = s[0:1]\n",
    "        \n",
    "        # fill table of len 1\n",
    "        for i in range(len(s)):\n",
    "            palindromTable[i][i] = True\n",
    "        \n",
    "        \n",
    "        # fill table of len 2\n",
    "        for i in range(len(s) - 1):\n",
    "            palindromTable[i][i+1] = (s[i] == s[i+1])\n",
    "            if (longestSize == 1) and palindromTable[i][i+1]:\n",
    "                longestSize = 2\n",
    "                longestStr = s[i:i+2]\n",
    "        \n",
    "        \n",
    "        # fill up the rest of the table\n",
    "        \n",
    "        for j in range(2, len(s)):\n",
    "            for i in range(len(s) - j):\n",
    "                #print(\"i,j \",i,j,s[i],s[j], palindromTable[1][1])\n",
    "                palindromTable[i][i+j] = (palindromTable[i+1][i+j-1]) and (s[i] == s[i+j])\n",
    "                #print(\"i j \", i, i+j)\n",
    "                #print(\"palindrome i,j\",i,j,palindromTable[i][j])\n",
    "                if palindromTable[i][i+j]:\n",
    "                    # check lenth\n",
    "                    size = j + 1\n",
    "                    #print(i, j+1)\n",
    "                    #print(\"palindrome: \",i, s[i:j+1])\n",
    "                    if (not longestSize) or (size > longestSize):\n",
    "                        #print(s[i:i+j+1])\n",
    "                        longestSize = size\n",
    "                        longestStr = s[i:i+j+1]\n",
    "        return longestStr\n",
    "        "
   ]
  },
  {
   "cell_type": "code",
   "execution_count": 171,
   "metadata": {
    "collapsed": true
   },
   "outputs": [],
   "source": [
    "soln = Solution()"
   ]
  },
  {
   "cell_type": "code",
   "execution_count": 172,
   "metadata": {
    "collapsed": false
   },
   "outputs": [
    {
     "data": {
      "text/plain": [
       "'bb'"
      ]
     },
     "execution_count": 172,
     "metadata": {},
     "output_type": "execute_result"
    }
   ],
   "source": [
    "soln.longestPalindrome('cbbd')"
   ]
  },
  {
   "cell_type": "code",
   "execution_count": 173,
   "metadata": {
    "collapsed": true
   },
   "outputs": [],
   "source": [
    "c = 'aabbbaatacocatasd'"
   ]
  },
  {
   "cell_type": "code",
   "execution_count": 174,
   "metadata": {
    "collapsed": false
   },
   "outputs": [
    {
     "data": {
      "text/plain": [
       "'b'"
      ]
     },
     "execution_count": 174,
     "metadata": {},
     "output_type": "execute_result"
    }
   ],
   "source": [
    "c[2:3]"
   ]
  },
  {
   "cell_type": "code",
   "execution_count": null,
   "metadata": {
    "collapsed": true
   },
   "outputs": [],
   "source": [
    "# apply middle expansion to left and right \n",
    "class Solution(object):\n",
    "    def longestPalindrome(self, s):\n",
    "        \"\"\"\n",
    "        :type s: str\n",
    "        :rtype: str\n",
    "        \"\"\"\n",
    "        "
   ]
  }
 ],
 "metadata": {
  "anaconda-cloud": {},
  "kernelspec": {
   "display_name": "Python [conda env:deep_learning]",
   "language": "python",
   "name": "conda-env-deep_learning-py"
  },
  "language_info": {
   "codemirror_mode": {
    "name": "ipython",
    "version": 3
   },
   "file_extension": ".py",
   "mimetype": "text/x-python",
   "name": "python",
   "nbconvert_exporter": "python",
   "pygments_lexer": "ipython3",
   "version": "3.5.2"
  }
 },
 "nbformat": 4,
 "nbformat_minor": 1
}
