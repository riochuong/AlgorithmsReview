{
 "cells": [
  {
   "cell_type": "raw",
   "metadata": {},
   "source": [
    "Merge two sorted linked lists and return it as a new list. The new list should be made by splicing together the nodes of the first two lists.\n",
    "Example:\n",
    "\n",
    "Input: 1->2->4, 1->3->4\n",
    "Output: 1->1->2->3->4->4"
   ]
  },
  {
   "cell_type": "code",
   "execution_count": 1,
   "metadata": {
    "collapsed": true
   },
   "outputs": [],
   "source": [
    "# Definition for singly-linked list.\n",
    "# class ListNode:\n",
    "#     def __init__(self, x):\n",
    "#         self.val = x\n",
    "#         self.next = None\n",
    "\n",
    "class Solution:\n",
    "    def mergeTwoLists(self, l1, l2):\n",
    "        \"\"\"\n",
    "        :type l1: ListNode\n",
    "        :type l2: ListNode\n",
    "        :rtype: ListNode\n",
    "        \"\"\"\n",
    "        # sanity check \n",
    "        if l1 == None:\n",
    "            return l2\n",
    "        if l2 == None:\n",
    "            return l1\n",
    "        \n",
    "        # traverse list\n",
    "        l1Ptr = l1\n",
    "        l2Ptr = l2\n",
    "        newListHead = None\n",
    "        tailMergeList = None\n",
    "        mergeNode = None\n",
    "        while (l1Ptr != None) and (l2Ptr != None):\n",
    "            if mergeNode:\n",
    "                mergeNode.next = None\n",
    "            if l1Ptr.val <= l2Ptr.val :\n",
    "                mergeNode = l1Ptr\n",
    "                l1Ptr = mergeNode.next\n",
    "            else:\n",
    "                mergeNode = l2Ptr\n",
    "                l2Ptr = mergeNode.next\n",
    "                \n",
    "            # remove merge node collection\n",
    "            \n",
    "            \n",
    "            if not newListHead:\n",
    "                newListHead = mergeNode\n",
    "                tailMergeList = mergeNode\n",
    "            else:\n",
    "                tailMergeList.next = mergeNode\n",
    "                tailMergeList = mergeNode\n",
    "                \n",
    "        return newListHead\n",
    "                \n",
    "        \n",
    "            \n",
    "            \n",
    "            \n",
    "            "
   ]
  },
  {
   "cell_type": "code",
   "execution_count": null,
   "metadata": {
    "collapsed": true
   },
   "outputs": [],
   "source": []
  },
  {
   "cell_type": "code",
   "execution_count": null,
   "metadata": {
    "collapsed": true
   },
   "outputs": [],
   "source": []
  },
  {
   "cell_type": "code",
   "execution_count": null,
   "metadata": {
    "collapsed": true
   },
   "outputs": [],
   "source": []
  }
 ],
 "metadata": {
  "anaconda-cloud": {},
  "kernelspec": {
   "display_name": "Python [conda env:aind]",
   "language": "python",
   "name": "conda-env-aind-py"
  },
  "language_info": {
   "codemirror_mode": {
    "name": "ipython",
    "version": 3
   },
   "file_extension": ".py",
   "mimetype": "text/x-python",
   "name": "python",
   "nbconvert_exporter": "python",
   "pygments_lexer": "ipython3",
   "version": "3.6.0"
  }
 },
 "nbformat": 4,
 "nbformat_minor": 1
}
