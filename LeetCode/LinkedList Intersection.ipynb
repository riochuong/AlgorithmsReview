{
 "cells": [
  {
   "cell_type": "markdown",
   "metadata": {
    "collapsed": true
   },
   "source": [
    "Write a program to find the node at which the intersection of two singly linked lists begins.\n",
    "\n",
    "\n",
    "For example, the following two linked lists:\n",
    "\n",
    "A:          a1 → a2<br>\n",
    "                   ↘\n",
    "                     c1 → c2 → c3<br>\n",
    "                   ↗            \n",
    "B:     b1 → b2 → b3<br>\n",
    "begin to intersect at node c1.\n",
    "\n",
    "\n",
    "Notes:\n",
    "\n",
    "If the two linked lists have no intersection at all, return null.<br>\n",
    "The linked lists must retain their original structure after the function returns. <br>\n",
    "You may assume there are no cycles anywhere in the entire linked structure. <br>\n",
    "Your code should preferably run in O(n) time and use only O(1) memory.<br>"
   ]
  },
  {
   "cell_type": "code",
   "execution_count": 1,
   "metadata": {
    "collapsed": true
   },
   "outputs": [],
   "source": [
    "# Definition for singly-linked list.\n",
    "class ListNode(object):\n",
    "    def __init__(self, x):\n",
    "        self.val = x\n",
    "        self.next = None\n",
    "\n",
    "class Solution(object):\n",
    "    def getIntersectionNode(self, headA, headB):\n",
    "        \"\"\"\n",
    "        :type head1, head1: ListNode\n",
    "        :rtype: ListNode\n",
    "        \"\"\"\n",
    "        if headA == None or headB == None:\n",
    "            return None\n",
    "        \n",
    "        # the key idea is switching head after hitting the end of the array \n",
    "        # so both pointer will travel the same distance and meet at the intersection\n",
    "        # if they are not meeting then the two linkedlists are not intersected \n",
    "        ptrA = headA\n",
    "        ptrB = headB\n",
    "        while ptrA is not ptrB:\n",
    "            # check and switch A Ptr\n",
    "            if ptrA != None :\n",
    "                ptrA = ptrA.next\n",
    "            else:\n",
    "                ptrA = headB\n",
    "            \n",
    "            # check and switch B ptr\n",
    "            if ptrB != None:\n",
    "                ptrB = ptrB.next\n",
    "            else:\n",
    "                ptrB = headA\n",
    "        # the only way for them to intersect is that they travel the same\n",
    "        # distance and arrive at the intersect after the same amount of \n",
    "        # next move \n",
    "        return ptrA\n",
    "            \n",
    "            \n",
    "        # now switched head \n",
    "        \n",
    "        "
   ]
  }
 ],
 "metadata": {
  "anaconda-cloud": {},
  "kernelspec": {
   "display_name": "Python [conda env:deep_learning]",
   "language": "python",
   "name": "conda-env-deep_learning-py"
  },
  "language_info": {
   "codemirror_mode": {
    "name": "ipython",
    "version": 3
   },
   "file_extension": ".py",
   "mimetype": "text/x-python",
   "name": "python",
   "nbconvert_exporter": "python",
   "pygments_lexer": "ipython3",
   "version": "3.5.2"
  }
 },
 "nbformat": 4,
 "nbformat_minor": 1
}
