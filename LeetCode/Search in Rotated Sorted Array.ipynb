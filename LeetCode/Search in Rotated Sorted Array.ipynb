{
 "cells": [
  {
   "cell_type": "markdown",
   "metadata": {},
   "source": [
    "Suppose an array sorted in ascending order is rotated at some pivot unknown to you beforehand.\n",
    "\n",
    "(i.e., 0 1 2 4 5 6 7 might become 4 5 6 7 0 1 2).\n",
    "\n",
    "You are given a target value to search. If found in the array return its index, otherwise return -1.\n",
    "\n",
    "You may assume no duplicate exists in the array.\n",
    "\n"
   ]
  },
  {
   "cell_type": "code",
   "execution_count": 110,
   "metadata": {
    "collapsed": true
   },
   "outputs": [],
   "source": [
    "# \n",
    "# The key idea is one side of the middle \n",
    "# element is always sorted and we need to eliminate that's side possibilities first \n",
    "# and search on the other side with same strategy \n",
    "# \n",
    "class Solution(object):\n",
    "    def search(self, nums, target):\n",
    "        \"\"\"\n",
    "        :type nums: List[int]\n",
    "        :type target: int\n",
    "        :rtype: int\n",
    "        \"\"\"\n",
    "        def searchForItems(nums, target, left, right):\n",
    "            # trivial base case\n",
    "            if right < left:\n",
    "                return -1\n",
    "            \n",
    "            if (left == right):\n",
    "                if nums[left] == target:\n",
    "                    return left\n",
    "                return -1\n",
    "\n",
    "            midIdx = (right + left) // 2\n",
    "            # get item for comparison\n",
    "            middleItem = nums[midIdx]\n",
    "            leftItem = nums[left]\n",
    "            rightItem = nums[right]\n",
    "            \n",
    "            \n",
    "            # easy case\n",
    "            if middleItem == target:\n",
    "                return midIdx\n",
    "            \n",
    "            # if target greater than middle \n",
    "            # left side is well-sorted \n",
    "            if leftItem <= middleItem:    \n",
    "                if (target < middleItem) and (target >= leftItem):\n",
    "                    return searchForItems(nums, target, left, midIdx - 1)\n",
    "                else:\n",
    "                    return searchForItems(nums, target, midIdx + 1, right)\n",
    "            # right side is well sorted\n",
    "            else:\n",
    "                if (target > middleItem) and (target <= rightItem):\n",
    "                    return searchForItems(nums, target, midIdx + 1, right)\n",
    "                else:\n",
    "                    return searchForItems(nums, target, left, midIdx - 1)\n",
    "        \n",
    "        # sanity checks parameters\n",
    "        if (nums == None) or (target == None):\n",
    "            return -1\n",
    "        \n",
    "        if (len(nums) == 0):\n",
    "            return -1\n",
    "        \n",
    "        return searchForItems(nums, target, 0, len(nums) - 1)\n",
    "        \n",
    "        "
   ]
  },
  {
   "cell_type": "code",
   "execution_count": 111,
   "metadata": {
    "collapsed": true
   },
   "outputs": [],
   "source": [
    "soln = Solution()"
   ]
  },
  {
   "cell_type": "code",
   "execution_count": 113,
   "metadata": {
    "collapsed": false
   },
   "outputs": [
    {
     "data": {
      "text/plain": [
       "-1"
      ]
     },
     "execution_count": 113,
     "metadata": {},
     "output_type": "execute_result"
    }
   ],
   "source": [
    "soln.search([1,3,1,1,1,1], 3)"
   ]
  },
  {
   "cell_type": "code",
   "execution_count": null,
   "metadata": {
    "collapsed": true
   },
   "outputs": [],
   "source": []
  },
  {
   "cell_type": "code",
   "execution_count": null,
   "metadata": {
    "collapsed": true
   },
   "outputs": [],
   "source": []
  }
 ],
 "metadata": {
  "anaconda-cloud": {},
  "kernelspec": {
   "display_name": "Python [conda env:deep_learning]",
   "language": "python",
   "name": "conda-env-deep_learning-py"
  },
  "language_info": {
   "codemirror_mode": {
    "name": "ipython",
    "version": 3
   },
   "file_extension": ".py",
   "mimetype": "text/x-python",
   "name": "python",
   "nbconvert_exporter": "python",
   "pygments_lexer": "ipython3",
   "version": "3.5.2"
  }
 },
 "nbformat": 4,
 "nbformat_minor": 1
}
