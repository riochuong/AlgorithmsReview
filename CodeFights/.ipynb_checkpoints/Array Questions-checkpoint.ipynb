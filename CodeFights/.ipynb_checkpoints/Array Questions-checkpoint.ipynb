{
 "cells": [
  {
   "cell_type": "markdown",
   "metadata": {},
   "source": [
    "### First Duplicate "
   ]
  },
  {
   "cell_type": "markdown",
   "metadata": {},
   "source": [
    "Note: Write a solution with O(n) time complexity and O(1) additional space complexity, since this is what you would be asked to do during a real interview.\n",
    "\n",
    "Given an array a that contains only numbers in the range from 1 to a.length, find the first duplicate number for which the second occurrence has the minimal index. In other words, if there are more than 1 duplicated numbers, return the number for which the second occurrence has a smaller index than the second occurrence of the other number does. If there are no such elements, return -1."
   ]
  },
  {
   "cell_type": "code",
   "execution_count": null,
   "metadata": {
    "collapsed": true
   },
   "outputs": [],
   "source": [
    "def firstDuplicate(a):\n",
    "    # empty array and single item array should have no duplicate\n",
    "    if(len(a) <= 1):\n",
    "        return -1\n",
    "    \n",
    "    seen_dict = {}\n",
    "    curr_dup_index = -1\n",
    "    curr_dup_val = -1\n",
    "    for index, item in enumerate(a):\n",
    "        # duplicate found \n",
    "        if item in seen_dict:\n",
    "            # check if we can replace dup index\n",
    "            if (curr_dup_index < 0):\n",
    "                curr_dup_index = index\n",
    "                curr_dup_val = item\n",
    "            elif (curr_dup_index > index):\n",
    "                curr_dup_index = index\n",
    "                curr_dup_val = item\n",
    "        # first time seen the item. Put it in the dict\n",
    "        else:\n",
    "            seen_dict[item] = item\n",
    "    \n",
    "    return curr_dup_val\n",
    "        \n",
    "            "
   ]
  },
  {
   "cell_type": "markdown",
   "metadata": {},
   "source": [
    "### First Not Repeating "
   ]
  },
  {
   "cell_type": "markdown",
   "metadata": {},
   "source": [
    "Note: Write a solution that only iterates over the string once and uses O(1) additional memory, since this is what you would be asked to do during a real interview.\n",
    "\n",
    "Given a string s, find and return the first instance of a non-repeating character in it. If there is no such character, return '_'.\n",
    "\n",
    "Example\n",
    "\n",
    "For s = \"abacabad\", the output should be\n",
    "firstNotRepeatingCharacter(s) = 'c'.\n",
    "\n",
    "There are 2 non-repeating characters in the string: 'c' and 'd'. Return c since it appears in the string first.\n",
    "\n",
    "For s = \"abacabaabacaba\", the output should be\n",
    "firstNotRepeatingCharacter(s) = '_'.\n",
    "\n",
    "There are no characters in this string that do not repeat.\n",
    "\n",
    "Input/Output\n",
    "\n",
    "[time limit] 4000ms (py3)\n",
    "[input] string s\n",
    "\n",
    "A string that contains only lowercase English letters.\n",
    "\n",
    "Guaranteed constraints:\n",
    "1 ≤ s.length ≤ 105.\n",
    "\n",
    "[output] char\n",
    "\n",
    "The first non-repeating character in s, or '_' if there are no characters that do not repeat."
   ]
  },
  {
   "cell_type": "code",
   "execution_count": 1,
   "metadata": {
    "collapsed": true
   },
   "outputs": [],
   "source": [
    "def firstNotRepeatingCharacter(s):\n",
    "    # empty string \n",
    "    if (len(s) <=0):\n",
    "        return '_'\n",
    "    \n",
    "    # string with length 1 should meet the requirement of \n",
    "    # non-repeating character\n",
    "    if (len(s) == 1):\n",
    "        return s\n",
    "    \n",
    "    char_dict = {}\n",
    "    for index, c in enumerate(s):\n",
    "        # remove c in dict if it's there\n",
    "        if (c in char_dict):\n",
    "            char_dict[c] = -1\n",
    "        else:\n",
    "            char_dict[c] = index\n",
    "    \n",
    "    # check the list for smallest index\n",
    "    smallest_index_char = '_'\n",
    "    smallest_index = -1\n",
    "    for c in char_dict:\n",
    "        if (smallest_index_char == '_') or (smallest_index > char_dict[c]):\n",
    "            # None will represent dup \n",
    "            if (char_dict[c] >= 0):\n",
    "                smallest_index_char = c\n",
    "                smallest_index = char_dict[c]\n",
    "            \n",
    "    return smallest_index_char\n",
    "    "
   ]
  },
  {
   "cell_type": "markdown",
   "metadata": {},
   "source": [
    "### Rotate Image"
   ]
  },
  {
   "cell_type": "markdown",
   "metadata": {},
   "source": [
    "Note: Try to solve this task in-place (with O(1) additional memory), since this is what you'll be asked to do during an interview.\n",
    "\n",
    "You are given an n x n 2D matrix that represents an image. Rotate the image by 90 degrees (clockwise).\n",
    "\n",
    "Example\n",
    "\n",
    "For\n",
    "\n",
    "a = [[1, 2, 3],\n",
    "     [4, 5, 6],\n",
    "     [7, 8, 9]]\n",
    "the output should be\n",
    "\n",
    "rotateImage(a) =\n",
    "    [[7, 4, 1],\n",
    "     [8, 5, 2],\n",
    "     [9, 6, 3]]\n",
    "Input/Output\n",
    "\n",
    "[time limit] 4000ms (py3)\n",
    "[input] array.array.integer a\n",
    "\n",
    "Guaranteed constraints:\n",
    "1 ≤ a.length ≤ 100,\n",
    "a[i].length = a.length,\n",
    "1 ≤ a[i][j] ≤ 104.\n",
    "\n",
    "[output] array.array.integer"
   ]
  },
  {
   "cell_type": "code",
   "execution_count": 3,
   "metadata": {
    "collapsed": true
   },
   "outputs": [],
   "source": [
    "# swap two numbers \n",
    "def swapPos(a,i,j,m,n):\n",
    "    temp = a[i][j]\n",
    "    # tricky negative to make sure that we dont swap here again \n",
    "    a[i][j] = a[m][n]\n",
    "    a[m][n] = -temp\n",
    "#     for i in range(len(a)):\n",
    "#         print(a[i])\n",
    "    \n",
    "def rotateImage(a):\n",
    "    rows = len(a)\n",
    "    cols = len(a[0])\n",
    "    # wrong matrix size \n",
    "    # only support square matrix\n",
    "    if (rows != cols):\n",
    "        print(\"bad matrix size. It's not square matrix\")\n",
    "        return a\n",
    "    # single and empty matrix\n",
    "    if (rows <= 1):\n",
    "        return a\n",
    "    \n",
    "    # now rotate the matrix\n",
    "    i = 0\n",
    "    j = 0\n",
    "    new_i = -1\n",
    "    new_j = -1\n",
    "    to_be_swap_new_i = -1\n",
    "    to_be_swap_new_j = -1\n",
    "    while (i < rows) and (j < cols):\n",
    "        if (to_be_swap_new_i < 0) and (to_be_swap_new_j < 0):\n",
    "            new_i = j\n",
    "            new_j = rows - i - 1\n",
    "            # swap i, j with [j, rows - i - 1]\n",
    "            to_be_swap_new_i = rows - i - 1\n",
    "            to_be_swap_new_j = rows - j - 1\n",
    "        else:\n",
    "            new_i = to_be_swap_new_i\n",
    "            new_j = to_be_swap_new_j\n",
    "            # swap i,j to new_i, new_j\n",
    "            to_be_swap_new_i = new_j\n",
    "            to_be_swap_new_j = rows - new_i - 1\n",
    "        # now swap them \n",
    "        #print (\"swap \",i,\",\",j,\" with \",new_i,\",\",new_j)\n",
    "        swapPos(a, i, j, new_i, new_j)\n",
    "        # item swapped out is now at i,j \n",
    "        if (i == to_be_swap_new_i) and (j == to_be_swap_new_j):\n",
    "            #print (i,\",\",j,\"is in the correct pos\")\n",
    "            if (a[i][j] < 0):\n",
    "                a[i][j] *= -1\n",
    "            to_be_swap_new_i = -1\n",
    "            to_be_swap_new_j = -1\n",
    "            ## search for next valid index\n",
    "            while(True):\n",
    "                if ( j == rows - 1):\n",
    "                    i += 1\n",
    "                    j = 0\n",
    "                else:\n",
    "                    j += 1\n",
    "                # break here if \n",
    "                if (i >= rows):\n",
    "                    break\n",
    "                # found value that's not breaked yet\n",
    "                if (a[i][j] > 0):\n",
    "                    break\n",
    "                if (a[i][j] < 0):\n",
    "                    a[i][j] *= -1    \n",
    "    return a\n"
   ]
  },
  {
   "cell_type": "markdown",
   "metadata": {
    "collapsed": true
   },
   "source": [
    "## Sudoku\n"
   ]
  },
  {
   "cell_type": "markdown",
   "metadata": {
    "collapsed": true
   },
   "source": [
    "Sudoku is a number-placement puzzle. The objective is to fill a 9 × 9 grid with numbers in such a way that each column, each row, and each of the nine 3 × 3 sub-grids that compose the grid all contain all of the numbers from 1 to 9 one time.\n",
    "\n",
    "Implement an algorithm that will check whether the given grid of numbers represents a valid Sudoku puzzle according to the layout rules described above. Note that the puzzle represented by grid does not have to be solvable."
   ]
  },
  {
   "cell_type": "code",
   "execution_count": 2,
   "metadata": {
    "collapsed": true
   },
   "outputs": [],
   "source": [
    "#\n",
    "# figure out which one of the 9 square\n",
    "# that this element belong to\n",
    "def getSquareIndex(row, col):\n",
    "    right_shift = int(col / 3)\n",
    "    down_shift = int(row / 3 )\n",
    "    return down_shift * 3 + right_shift\n",
    "\n",
    "def sudoku2(grid):\n",
    "    row_dict_list = [dict() for i in range(9)]\n",
    "    col_dict_list = [dict() for i in range(9)]\n",
    "    square_dict_list = [dict() for i in range(9)]\n",
    "    diagonal_dict = [dict() for i in range(2)]\n",
    "    # traverse and check \n",
    "    for row in range(9):\n",
    "        row_dict = row_dict_list[row]\n",
    "        for col in range(9):\n",
    "            col_dict = col_dict_list[col]\n",
    "            square_dict = square_dict_list[getSquareIndex(row,col)]\n",
    "            val = grid[row][col]\n",
    "            if val == \".\":\n",
    "                #print(\"go next\")\n",
    "                continue\n",
    "            # check if it's in row \n",
    "            if val in row_dict:\n",
    "#                 print(\"failed row  \",row,\" \",col)\n",
    "#                 print(row_dict)\n",
    "#                 print(row_dict_list)\n",
    "                return False\n",
    "            else:\n",
    "                #print(\"add val \", val, \" to row\", row)\n",
    "                row_dict[val] = val\n",
    "            # check col\n",
    "            if val in col_dict:\n",
    "                #print(\"failed col  \",row,\" \",col)\n",
    "                return False\n",
    "            else:\n",
    "                col_dict[val] = val\n",
    "            # check square\n",
    "            if val in square_dict:\n",
    "                #print(\"failed square \",row,\" \",col)\n",
    "                return False\n",
    "            else:\n",
    "                square_dict[val] = val\n",
    "            # check diagonal \n",
    "    # if all test are passed\n",
    "    return True\n",
    "                \n",
    "            \n",
    "    "
   ]
  },
  {
   "cell_type": "code",
   "execution_count": null,
   "metadata": {
    "collapsed": true
   },
   "outputs": [],
   "source": []
  }
 ],
 "metadata": {
  "anaconda-cloud": {},
  "kernelspec": {
   "display_name": "Python [default]",
   "language": "python",
   "name": "python3"
  },
  "language_info": {
   "codemirror_mode": {
    "name": "ipython",
    "version": 3
   },
   "file_extension": ".py",
   "mimetype": "text/x-python",
   "name": "python",
   "nbconvert_exporter": "python",
   "pygments_lexer": "ipython3",
   "version": "3.5.2"
  }
 },
 "nbformat": 4,
 "nbformat_minor": 2
}
