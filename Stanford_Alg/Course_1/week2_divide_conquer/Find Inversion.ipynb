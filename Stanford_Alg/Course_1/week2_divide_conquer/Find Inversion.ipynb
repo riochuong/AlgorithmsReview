{
 "cells": [
  {
   "cell_type": "markdown",
   "metadata": {},
   "source": [
    "## Inversion "
   ]
  },
  {
   "cell_type": "code",
   "execution_count": 114,
   "metadata": {
    "collapsed": false
   },
   "outputs": [],
   "source": [
    "#find Inversion using Divide and Conquer method\n",
    "# input: a array of int\n",
    "def findInv(a, inv_count_res, start, size):\n",
    "    # base case \n",
    "    #print(size)\n",
    "    inv_count = 0\n",
    "    res = [0] * size\n",
    "    count = 0\n",
    "    if size == 0:\n",
    "        raise Exception()\n",
    "    # special case     \n",
    "    if size == 1:\n",
    "        inv_count_res.append(0)\n",
    "        res[count] = (a[start])\n",
    "        return res\n",
    "    # now let divide the array in half \n",
    "    firstH_size = int(size / 2)\n",
    "    secH_size = size - firstH_size\n",
    "    secH_first_idx = start + firstH_size\n",
    "    secH_last_idx = secH_first_idx + secH_size - 1\n",
    "    \n",
    "    # let split the work \n",
    "    firstH = findInv(a, inv_count_res, start, int(size / 2))\n",
    "    secH = findInv(a, inv_count_res, secH_first_idx, secH_size)\n",
    "    \n",
    "    # now we combine two halfs\n",
    "    first_iter = 0 \n",
    "    sec_iter = 0\n",
    "    while (first_iter < firstH_size and sec_iter < secH_size):\n",
    "        # normal just copy it \n",
    "        size -= 1\n",
    "        firstH_remaining = firstH_size - first_iter \n",
    "        if firstH[first_iter] <= secH[sec_iter]:\n",
    "            res[count] = firstH[first_iter]\n",
    "            first_iter += 1\n",
    "        # if left item is greater than right \n",
    "        elif firstH[first_iter] > secH[sec_iter]:\n",
    "            inv_count += firstH_remaining \n",
    "            res[count] = secH[sec_iter]\n",
    "            sec_iter += 1\n",
    "        count += 1    \n",
    "    ## copy over from first half\n",
    "    #print(\"firstH\", firstH)\n",
    "    for i in range(first_iter, firstH_size):\n",
    "        res[count] = firstH[i]\n",
    "        count += 1\n",
    "    ## copy over from second half \n",
    "    #print(\"secH \", secH)\n",
    "    for i in range(sec_iter, secH_size):\n",
    "        res[count] = secH[i]\n",
    "        count += 1\n",
    "    inv_count_res.append(inv_count)\n",
    "    return res\n",
    "           "
   ]
  },
  {
   "cell_type": "markdown",
   "metadata": {},
   "source": [
    "### TEST SOLUTION"
   ]
  },
  {
   "cell_type": "code",
   "execution_count": 115,
   "metadata": {
    "collapsed": false
   },
   "outputs": [],
   "source": [
    "arr = []\n",
    "input_file = open(\"IntegerArray.txt\",'r')\n",
    "for line in input_file:\n",
    "    arr.append(int(line))"
   ]
  },
  {
   "cell_type": "code",
   "execution_count": 116,
   "metadata": {
    "collapsed": false
   },
   "outputs": [
    {
     "name": "stdout",
     "output_type": "stream",
     "text": [
      "2407905288\n"
     ]
    }
   ],
   "source": [
    "# find inverse\n",
    "inv_count = []\n",
    "res = findInv(arr, inv_count, 0, len(arr))\n",
    "print(sum(inv_count))"
   ]
  },
  {
   "cell_type": "code",
   "execution_count": null,
   "metadata": {
    "collapsed": true
   },
   "outputs": [],
   "source": []
  }
 ],
 "metadata": {
  "kernelspec": {
   "display_name": "Python 3",
   "language": "python",
   "name": "python3"
  },
  "language_info": {
   "codemirror_mode": {
    "name": "ipython",
    "version": 3
   },
   "file_extension": ".py",
   "mimetype": "text/x-python",
   "name": "python",
   "nbconvert_exporter": "python",
   "pygments_lexer": "ipython3",
   "version": "3.5.2"
  }
 },
 "nbformat": 4,
 "nbformat_minor": 2
}
