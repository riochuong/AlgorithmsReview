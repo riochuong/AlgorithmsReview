{
 "cells": [
  {
   "cell_type": "code",
   "execution_count": 8,
   "metadata": {
    "collapsed": true
   },
   "outputs": [],
   "source": [
    "from copy import copy, deepcopy\n",
    "from random import choice\n",
    "import numpy as np\n",
    "class MinCutSolution(object):\n",
    "    def __init__(self):\n",
    "        # start index from 1\n",
    "        self.graphs = [[]]\n",
    "    def readInputText(self, input_file):\n",
    "        file = open(input_file, 'r')\n",
    "        line_count = 0\n",
    "        for line in file:\n",
    "            adj_list = []\n",
    "            line_count += 1\n",
    "            # get all ajacent list\n",
    "            for i, adj in enumerate(line.split()):\n",
    "                if (i > 0):\n",
    "                    adj_list.append(int(adj))\n",
    "            #append list to vertex\n",
    "            self.graphs.append(adj_list)\n",
    "        # now set the final size\n",
    "        self.num_vertices =line_count\n",
    "        #print(self.graphs)\n",
    "        #print(self.num_vertices)\n",
    "    \n",
    "        \n",
    "    def randomizedContractGraph(self, seed):\n",
    "        \"\"\"\n",
    "            Randomly contract a pair of graph\n",
    "        \"\"\"\n",
    "        graph_copy = deepcopy(self.graphs)\n",
    "        #print(\"graph_copy \",graph_copy)\n",
    "        good_vertices = list(range(1, self.num_vertices + 1))\n",
    "        #print(good_vertices, \"size \",len(good_vertices))\n",
    "        np.random.seed(seed)\n",
    "        while len(good_vertices) > 2:\n",
    "            # pick a random vertex\n",
    "            #rand_v = good_vertices [ np.random.randint(len(good_vertices)) ]\n",
    "            rand_v =  choice(good_vertices)\n",
    "            # pick a random edge \n",
    "            #print(\"graph_copy[rand_v] \",type(graph_copy[rand_v]))\n",
    "            adj_size = len(graph_copy[rand_v])\n",
    "            #rand_e = graph_copy [rand_v] [ np.random.randint(adj_size) ]\n",
    "            rand_e = choice(graph_copy[rand_v])\n",
    "            if rand_e == rand_v:\n",
    "                print(\"wrong graph \",rand_v)\n",
    "                #print(graph_copy[rand_v])\n",
    "                break\n",
    "            # merge them and \n",
    "            # remove rand_e from good vertices as it will be composed to rand_v\n",
    "            #print(\"merge \", rand_v, rand_e)\n",
    "            good_vertices.remove(rand_e)\n",
    "            #print(\"good_vertices \", good_vertices)\n",
    "            # merge rand_e and rand_v\n",
    "            for v in graph_copy[rand_e]:\n",
    "                if (v != rand_v):\n",
    "                    #print(\"append \",v,\" to \",rand_v)\n",
    "                    graph_copy[rand_v].append(v)\n",
    "                    #print(\"rand_v list \", graph_copy[rand_v])\n",
    "            # cosolidate edges from other vertices also\n",
    "            for v in good_vertices:\n",
    "                for i, val in enumerate(graph_copy[v]):\n",
    "                    if (val == rand_e):\n",
    "                        graph_copy[v][i] = rand_v\n",
    "            #print(\"rand_v:\", rand_v)            \n",
    "            #print(\"before: \",graph_copy[rand_v])\n",
    "            graph_copy[rand_v] = list(filter(lambda a: a != rand_v, graph_copy[rand_v]))\n",
    "            #print(\"after : \",graph_copy[rand_v])\n",
    "            #print(\"end iter : \", graph_copy)\n",
    "            \n",
    "        # ouput min cuts\n",
    "        #print(good_vertices)\n",
    "        min_cuts = len(graph_copy[good_vertices[0]])\n",
    "        #print(\"graph_copy[good_vertices[0] \",graph_copy[good_vertices[0]])\n",
    "        #print(\"vertices \", good_vertices)\n",
    "        #print(graph_copy)\n",
    "        #print(min_cuts)\n",
    "        return min_cuts\n",
    "                    \n",
    "                        \n",
    "                    \n",
    "            \n",
    "            \n",
    "                \n",
    "            \n",
    "                    "
   ]
  },
  {
   "cell_type": "code",
   "execution_count": 5,
   "metadata": {
    "collapsed": true
   },
   "outputs": [],
   "source": [
    "soln = MinCutSolution()\n",
    "soln.readInputText(\"input.txt\")"
   ]
  },
  {
   "cell_type": "code",
   "execution_count": 9,
   "metadata": {
    "scrolled": false
   },
   "outputs": [
    {
     "name": "stdout",
     "output_type": "stream",
     "text": [
      "final min cuts:  17\n"
     ]
    }
   ],
   "source": [
    "min_cuts = -1\n",
    "for i in range(100):\n",
    "    soln = MinCutSolution()\n",
    "    soln.readInputText(\"input.txt\")\n",
    "    val = soln.randomizedContractGraph(np.random.randint(9999999))\n",
    "    if min_cuts < 0 or (min_cuts > val):\n",
    "        min_cuts = val\n",
    "    #print(\"current min cuts \", min_cuts)\n",
    "print(\"final min cuts: \",min_cuts)"
   ]
  }
 ],
 "metadata": {
  "kernelspec": {
   "display_name": "Python 3",
   "language": "python",
   "name": "python3"
  },
  "language_info": {
   "codemirror_mode": {
    "name": "ipython",
    "version": 3
   },
   "file_extension": ".py",
   "mimetype": "text/x-python",
   "name": "python",
   "nbconvert_exporter": "python",
   "pygments_lexer": "ipython3",
   "version": "3.6.1"
  }
 },
 "nbformat": 4,
 "nbformat_minor": 2
}
