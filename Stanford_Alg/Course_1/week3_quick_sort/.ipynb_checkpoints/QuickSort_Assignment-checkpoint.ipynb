{
 "cells": [
  {
   "cell_type": "markdown",
   "metadata": {},
   "source": [
    "## Quick sort with first element as pivot"
   ]
  },
  {
   "cell_type": "code",
   "execution_count": 46,
   "metadata": {
    "collapsed": true
   },
   "outputs": [],
   "source": [
    "def swap (arr, i, j):\n",
    "    temp = arr[i]\n",
    "    arr[i] = arr[j]\n",
    "    arr[j] = temp\n",
    "\n",
    "def partition_p_first (arr, l_index, r_index):\n",
    "    pivot = arr[l_index]\n",
    "    i = l_index + 1\n",
    "    # traverse and swap smaller item to the front \n",
    "    for j in range(l_index + 1, r_index + 1):\n",
    "        if arr[j] < pivot:\n",
    "            swap(arr, i, j)\n",
    "            i += 1\n",
    "    # put the pivot to the correct position \n",
    "    swap(arr, l_index, i - 1)\n",
    "    return i-1\n",
    "    \n",
    "def qsort_p_first(arr, start, end, comp_counts):\n",
    "    #print(\"start \", start, \" end \", end)\n",
    "    if (end <= start):\n",
    "        return start \n",
    "    comp_counts.append(end - start)\n",
    "    p_idx = partition_p_first(arr, start, end)\n",
    "    #print(arr)\n",
    "    #print(\"pivot idx \",p_idx)\n",
    "    qsort_p_first(arr, start, p_idx - 1, comp_counts)\n",
    "    qsort_p_first(arr, p_idx + 1, end, comp_counts)\n",
    "            "
   ]
  },
  {
   "cell_type": "markdown",
   "metadata": {},
   "source": [
    "### QUICK SORT WITH LAST ITEM AS PIVOT"
   ]
  },
  {
   "cell_type": "code",
   "execution_count": 53,
   "metadata": {
    "collapsed": true
   },
   "outputs": [],
   "source": [
    "def partition_p_last (arr, l_index, r_index):\n",
    "    swap(arr, l_index, r_index)\n",
    "    pivot = arr[l_index]\n",
    "    i = l_index + 1\n",
    "    # traverse and swap smaller item to the front \n",
    "    for j in range(l_index + 1, r_index + 1):\n",
    "        if arr[j] < pivot:\n",
    "            swap(arr, i, j)\n",
    "            i += 1\n",
    "    # put the pivot to the correct position \n",
    "    swap(arr, l_index, i - 1)\n",
    "    return i-1\n",
    "    \n",
    "def qsort_p_last(arr, start, end, comp_counts):\n",
    "    #print(\"start \", start, \" end \", end)\n",
    "    if (end <= start):\n",
    "        return start \n",
    "    comp_counts.append(end - start)\n",
    "    p_idx = partition_p_last(arr, start, end)\n",
    "    #print(arr)\n",
    "    #print(\"pivot idx \",p_idx)\n",
    "    qsort_p_last(arr, start, p_idx - 1, comp_counts)\n",
    "    qsort_p_last(arr, p_idx + 1, end, comp_counts)\n",
    "            "
   ]
  },
  {
   "cell_type": "markdown",
   "metadata": {},
   "source": [
    "## Quick sort with Median Item as Pivot"
   ]
  },
  {
   "cell_type": "code",
   "execution_count": null,
   "metadata": {
    "collapsed": true
   },
   "outputs": [],
   "source": [
    "def findMedian(arr, first, med, last):\n",
    "    # first is median\n",
    "    if  arr[first] >= arr[last] and arr[first] <= arr[med]:\n",
    "        return first\n",
    "    if arr[first] >= arr[med] and arr[first] <= arr[last]:\n",
    "        return first\n",
    "    \n",
    "    # med is median \n",
    "    if  arr[med] >= arr[first] and arr[med] <= arr[last]:\n",
    "        return med\n",
    "    if arr[med] >= arr[last] and arr[med] <= arr[first]:\n",
    "        return med\n",
    "    \n",
    "    # last is median \n",
    "    if  arr[last] >= arr[first] and arr[last] <= arr[med]:\n",
    "        return last\n",
    "    if arr[last] >= arr[med] and arr[last] <= arr[first]:\n",
    "        return last\n",
    "\n",
    "\n",
    "def partition_meidan (arr, l_index, r_index):\n",
    "    p_index = findMedian(arr, l_index, int((r_index - l_index)/2), r_index)\n",
    "    swap(arr, l_index, p_index)\n",
    "    pivot = arr[l_index]\n",
    "    i = l_index + 1\n",
    "    # traverse and swap smaller item to the front \n",
    "    for j in range(l_index + 1, r_index + 1):\n",
    "        if arr[j] < pivot:\n",
    "            swap(arr, i, j)\n",
    "            i += 1\n",
    "    # put the pivot to the correct position \n",
    "    swap(arr, l_index, i - 1)\n",
    "    return i-1\n",
    "    \n",
    "def qsort_median(arr, start, end, comp_counts):\n",
    "    #print(\"start \", start, \" end \", end)\n",
    "    if (end <= start):\n",
    "        return start \n",
    "    comp_counts.append(end - start)\n",
    "    p_idx = partition_meidan(arr, start, end)\n",
    "    #print(arr)\n",
    "    #print(\"pivot idx \",p_idx)\n",
    "    qsort_median(arr, start, p_idx - 1, comp_counts)\n",
    "    qsort_median(arr, p_idx + 1, end, comp_counts)\n",
    "            "
   ]
  },
  {
   "cell_type": "code",
   "execution_count": 63,
   "metadata": {
    "collapsed": false
   },
   "outputs": [
    {
     "data": {
      "text/plain": [
       "1"
      ]
     },
     "execution_count": 63,
     "metadata": {},
     "output_type": "execute_result"
    }
   ],
   "source": [
    "int(3/2)\n"
   ]
  },
  {
   "cell_type": "markdown",
   "metadata": {},
   "source": [
    "### Assignment Input"
   ]
  },
  {
   "cell_type": "code",
   "execution_count": 54,
   "metadata": {
    "collapsed": false
   },
   "outputs": [],
   "source": [
    "## Read input \n",
    "def readInput(fileName):\n",
    "    f = open(fileName, 'r')\n",
    "    arr = []\n",
    "    for each_lin in f:\n",
    "        arr.append(int(each_lin))\n",
    "    return arr\n"
   ]
  },
  {
   "cell_type": "code",
   "execution_count": 55,
   "metadata": {
    "collapsed": false
   },
   "outputs": [
    {
     "name": "stdout",
     "output_type": "stream",
     "text": [
      "162085\n"
     ]
    }
   ],
   "source": [
    "# Qsort with first element as pivot\n",
    "arr = readInput(\"quick_sort_sample_list.txt\")\n",
    "comp_count =[]\n",
    "qsort_p_first(arr, 0, len(arr) - 1, comp_count)\n",
    "print(sum(comp_count))"
   ]
  },
  {
   "cell_type": "code",
   "execution_count": 56,
   "metadata": {
    "collapsed": false
   },
   "outputs": [
    {
     "name": "stdout",
     "output_type": "stream",
     "text": [
      "164123\n"
     ]
    }
   ],
   "source": [
    "# QSORT with last element as pivot\n",
    "arr = readInput(\"quick_sort_sample_list.txt\")\n",
    "comp_count =[]\n",
    "qsort_p_last(arr, 0, len(arr) - 1, comp_count)\n",
    "print(sum(comp_count))"
   ]
  },
  {
   "cell_type": "code",
   "execution_count": null,
   "metadata": {
    "collapsed": true
   },
   "outputs": [],
   "source": []
  }
 ],
 "metadata": {
  "anaconda-cloud": {},
  "kernelspec": {
   "display_name": "Python [conda env:deep_learning]",
   "language": "python",
   "name": "conda-env-deep_learning-py"
  },
  "language_info": {
   "codemirror_mode": {
    "name": "ipython",
    "version": 3
   },
   "file_extension": ".py",
   "mimetype": "text/x-python",
   "name": "python",
   "nbconvert_exporter": "python",
   "pygments_lexer": "ipython3",
   "version": "3.5.2"
  }
 },
 "nbformat": 4,
 "nbformat_minor": 1
}
