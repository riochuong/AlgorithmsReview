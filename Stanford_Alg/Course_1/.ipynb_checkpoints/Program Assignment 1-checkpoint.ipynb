{
 "cells": [
  {
   "cell_type": "markdown",
   "metadata": {},
   "source": [
    "### Karatsuba Multiplication"
   ]
  },
  {
   "cell_type": "code",
   "execution_count": 118,
   "metadata": {},
   "outputs": [],
   "source": [
    "def karatsuba (a, b):\n",
    "    # assume b and a should have same len\n",
    "    #print(\"karatusb \",a,b)\n",
    "    if len(str(a)) == len(str(b)) == 1:\n",
    "        #print(\"return \",a*b)\n",
    "        return a * b\n",
    "    size = len(str(a))\n",
    "    # now need to figure out size \n",
    "    m = int(np.ceil(size/2))\n",
    "    x1,x0 = divmod(a,10**m)\n",
    "    y1,y0 = divmod(b,10**m)\n",
    "    #print (\"x1,x0,y1,y0 \",x1, x0, y1, y0)\n",
    "    a = karatsuba(x1,y1)\n",
    "    #print (\"=======\")\n",
    "    c = karatsuba(x0,y0)\n",
    "    #print (\"=======\")\n",
    "    b = karatsuba((x1 + x0),(y1 + y0)) - a - c\n",
    "    #print (\"=======\")\n",
    "    res = a*(10 ** (2*m)) + b * (10 ** m) + c\n",
    "    #print (\"return \",res)\n",
    "    return res"
   ]
  },
  {
   "cell_type": "code",
   "execution_count": 119,
   "metadata": {},
   "outputs": [
    {
     "data": {
      "text/plain": [
       "8539734222673567065463550869546574495034888535765114961879601127067743044893204848617875072216249073013374895871952806582723184"
      ]
     },
     "execution_count": 119,
     "metadata": {},
     "output_type": "execute_result"
    }
   ],
   "source": [
    "karatsuba(3141592653589793238462643383279502884197169399375105820974944592,\n",
    "          2718281828459045235360287471352662497757247093699959574966967627)"
   ]
  }
 ],
 "metadata": {
  "kernelspec": {
   "display_name": "Python [default]",
   "language": "python",
   "name": "python3"
  },
  "language_info": {
   "codemirror_mode": {
    "name": "ipython",
    "version": 3
   },
   "file_extension": ".py",
   "mimetype": "text/x-python",
   "name": "python",
   "nbconvert_exporter": "python",
   "pygments_lexer": "ipython3",
   "version": "3.5.2"
  },
  "widgets": {
   "state": {},
   "version": "1.1.2"
  }
 },
 "nbformat": 4,
 "nbformat_minor": 2
}
