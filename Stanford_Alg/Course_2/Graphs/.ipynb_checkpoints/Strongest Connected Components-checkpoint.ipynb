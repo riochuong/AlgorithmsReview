{
 "cells": [
  {
   "cell_type": "code",
   "execution_count": 54,
   "metadata": {
    "collapsed": false
   },
   "outputs": [],
   "source": [
    "class SCC (object):\n",
    "    def __init__(self, input_file):\n",
    "        self.graphs = self.__constructGraphFromInputFile(input_file)\n",
    "    \n",
    "    def __constructGraphFromInputFile(self, input_file):\n",
    "        \"\"\"\n",
    "         return ajacent array format \n",
    "        \"\"\"\n",
    "        file = open(input_file)\n",
    "        graphs = {}\n",
    "        for line in file:\n",
    "            #print(line)\n",
    "            edge = line.split(\" \")\n",
    "            source = int(edge[0])\n",
    "            dest = int(edge[1])\n",
    "            # add vertex adjacency list  \n",
    "            if not (source in graphs):\n",
    "                graphs[source] = [dest]\n",
    "            elif not (dest in graphs[source]):\n",
    "                graphs[source].append(dest)\n",
    "            # need an empty list of adjacent neigbhors from each vertex\n",
    "            if not (dest in graphs):\n",
    "                graphs[dest] = []\n",
    "        # return graphs\n",
    "        #print(graphs)\n",
    "        return graphs\n",
    "    \n",
    "    def __reversedGraph(self, graphs):\n",
    "        \"\"\"\n",
    "         reversed graph that constructed by __constructGraphFromInputFile\n",
    "        \"\"\"\n",
    "        revGraphs = {}\n",
    "        # get all destinations v\n",
    "        for source in graphs.keys():\n",
    "            dests = graphs[source]\n",
    "            if not (source in revGraphs):\n",
    "                revGraphs [source] = []\n",
    "            for dest in dests:\n",
    "                if not dest in revGraphs:\n",
    "                    revGraphs[dest] = [source]\n",
    "                elif not source in revGraphs[dest]:\n",
    "                    revGraphs[dest].append(source)\n",
    "                \n",
    "        \n",
    "        # we have the reversed graph here \n",
    "        print(revGraphs)\n",
    "        return revGraphs\n",
    "    \n",
    "    def __DFS_loop (self, graphs, vertices, passOrder=1):\n",
    "        \"\"\"\n",
    "            DFS loop on graphs\n",
    "            \n",
    "            Parameters:\n",
    "                graphs: a DAC graphs constructed by __constructGraphFromInputFile\n",
    "                passOrder: 1 for the first pass and 2 for second pass to find all SCC\n",
    "        \"\"\"\n",
    "        explored = {}\n",
    "        orderMap = {}\n",
    "        leaderMap = {}\n",
    "        order = [0] \n",
    "        count = 0\n",
    "        for i in vertices:\n",
    "            if not (i in explored):\n",
    "                explored[i] = i\n",
    "                self.__DFS(graphs, i, orderMap, order, explored, leaderMap, i, passOrder)\n",
    "        # return information depends on pass order         \n",
    "        if passOrder == 1:\n",
    "            return orderMap\n",
    "        else:\n",
    "            return leaderMap\n",
    "    \n",
    "    def __DFS (self, graphs, vertex, orderMap, order, explored, leaderMap, leader, passOrder):\n",
    "        \"\"\"\n",
    "         Do DFS on graphs \n",
    "        \"\"\"\n",
    "        edges = graphs[vertex]\n",
    "        print(\"DFS: \",vertex)\n",
    "        if passOrder == 2:\n",
    "            print(\"add leader for \",vertex,\":\",leader)\n",
    "            leaderMap[vertex] = leader\n",
    "        for dest in edges:\n",
    "            if not dest in explored:\n",
    "                explored[dest] = dest\n",
    "                self.__DFS(graphs, dest, orderMap, order, explored, leaderMap, leader, passOrder)\n",
    "        # increment order\n",
    "        if passOrder == 1:\n",
    "            order[0] += 1\n",
    "            # save it to map \n",
    "            orderMap[vertex] = order[0]\n",
    "\n",
    "            \n",
    "    def getOrderVertices(self):\n",
    "        \"\"\"\n",
    "         Find all SCCS in the graph using \n",
    "         @return : array of size of each SCC. Size of the array is the number of SCCS\n",
    "        \"\"\"\n",
    "        revGraphs = self.__reversedGraph(self.graphs)\n",
    "        # do DFS_loop on revGraphs to find magic order\n",
    "        vertices = reversed(list(range(1, max(revGraphs.keys()) + 1)))\n",
    "        orderMap = self.__DFS_loop(revGraphs,vertices, passOrder=1)\n",
    "        print (orderMap)\n",
    "        # get the list order to traverse\n",
    "        verticeTuples = sorted(orderMap.items(), key=lambda x:x[1]) \n",
    "        vertices = []\n",
    "        print(verticeTuples)\n",
    "        # get the list order \n",
    "        for verticeTuple in reversed(verticeTuples):\n",
    "            #print(verticeTuple)\n",
    "            vertices.append(verticeTuple[0])\n",
    "        \n",
    "        self.orderedVertices = vertices\n",
    "        \n",
    "      \n",
    "        #print(\"leader \", leader)\n",
    "        \n",
    "        # do DFS_loop on Graphs to determine SCC and size \n",
    "    def getSCCs(self, orderedVertices):\n",
    "          #print (vertices)\n",
    "        leader = self.__DFS_loop(self.graphs, orderedVertices, passOrder=2)\n",
    "        return leader"
   ]
  },
  {
   "cell_type": "code",
   "execution_count": 55,
   "metadata": {
    "collapsed": true
   },
   "outputs": [],
   "source": [
    "import sys\n",
    "sys.setrecursionlimit(10000)"
   ]
  },
  {
   "cell_type": "code",
   "execution_count": null,
   "metadata": {
    "collapsed": false
   },
   "outputs": [],
   "source": [
    "scc = SCC(\"SCC.txt\")\n",
    "scc.getOrderVertices()"
   ]
  },
  {
   "cell_type": "code",
   "execution_count": 57,
   "metadata": {
    "collapsed": false
   },
   "outputs": [],
   "source": [
    "scc2 = SCC('SCC.txt')"
   ]
  },
  {
   "cell_type": "code",
   "execution_count": 59,
   "metadata": {
    "collapsed": false
   },
   "outputs": [
    {
     "name": "stdout",
     "output_type": "stream",
     "text": [
      "DFS:  9\n",
      "add leader for  9 : 9\n",
      "DFS:  7\n",
      "add leader for  7 : 9\n",
      "DFS:  8\n",
      "add leader for  8 : 9\n",
      "DFS:  5\n",
      "add leader for  5 : 5\n",
      "DFS:  6\n",
      "add leader for  6 : 5\n",
      "DFS:  4\n",
      "add leader for  4 : 5\n",
      "DFS:  2\n",
      "add leader for  2 : 2\n",
      "DFS:  3\n",
      "add leader for  3 : 2\n",
      "DFS:  1\n",
      "add leader for  1 : 2\n"
     ]
    }
   ],
   "source": [
    "results = scc2.getSCCs(scc.orderedVertices)"
   ]
  },
  {
   "cell_type": "code",
   "execution_count": null,
   "metadata": {
    "collapsed": true
   },
   "outputs": [],
   "source": []
  }
 ],
 "metadata": {
  "anaconda-cloud": {},
  "kernelspec": {
   "display_name": "Python [conda env:deep_learning]",
   "language": "python",
   "name": "conda-env-deep_learning-py"
  },
  "language_info": {
   "codemirror_mode": {
    "name": "ipython",
    "version": 3
   },
   "file_extension": ".py",
   "mimetype": "text/x-python",
   "name": "python",
   "nbconvert_exporter": "python",
   "pygments_lexer": "ipython3",
   "version": "3.5.2"
  }
 },
 "nbformat": 4,
 "nbformat_minor": 1
}
