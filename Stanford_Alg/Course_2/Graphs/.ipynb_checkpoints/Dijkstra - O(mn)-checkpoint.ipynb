{
 "cells": [
  {
   "cell_type": "code",
   "execution_count": null,
   "metadata": {
    "collapsed": true
   },
   "outputs": [],
   "source": []
  },
  {
   "cell_type": "code",
   "execution_count": 32,
   "metadata": {
    "collapsed": true
   },
   "outputs": [],
   "source": [
    "import re\n",
    "class Dijkstra(object):\n",
    "    def __init__(self, fileInput):\n",
    "        file = open(fileInput)\n",
    "        adjGraphs = {}\n",
    "        for line in file:\n",
    "            elements = re.split(\"\\t| \",line)\n",
    "            # get source vertex\n",
    "            vertex = int(elements[0])\n",
    "            # find destination and cost  \n",
    "            #print(\"add vertext \",vertex)\n",
    "            adjGraphs[vertex] = {}\n",
    "            for i in range(1, len(elements)):\n",
    "                el = elements[i].split(\",\")\n",
    "                #print(el)\n",
    "                # ignore invalid elements\n",
    "                if len(el) < 2:\n",
    "                    continue\n",
    "                # add elements \n",
    "                dest = int(el[0])\n",
    "                cost = int(el[1])\n",
    "                adjGraphs[vertex][dest] = cost\n",
    "        self.graphs = adjGraphs\n",
    "        #print(self.graphs)\n",
    "                \n",
    "        \n",
    "    def findShortestPath(self, destVertices):\n",
    "        '''\n",
    "           Find shortest path to all of the vertices passed by destVertices\n",
    "           @itype: \n",
    "               destVertices: hashmap of all vertices wanted to find shortest path from 1\n",
    "        '''\n",
    "        # always start from first vertices\n",
    "        X = [1]\n",
    "        potentialFrontier = [1]\n",
    "        shortestPath = {1:0}\n",
    "        while len(frontiers) > 0:\n",
    "            frontier = potentialFrontier.pop()\n",
    "            # go through each adj vertex and find shortest path\n",
    "            shortestDist = -1\n",
    "            shortestVertex = None\n",
    "            for adjVertex in self.graphs[frontier].keys():\n",
    "                # distance from frontier to the vertex \n",
    "                distToV = shortestPath[frontier] + self.graphs[frontier][adjVertex]\n",
    "                if shortestDist < 0 or shortestDist > distToV:\n",
    "                    shortestDist = distToV\n",
    "                    shortestVertex = adjVertex\n",
    "            # add short test dist to frontier\n",
    "            if shortestVertex:\n",
    "                frontiers.append(shortestVertex)\n",
    "                shortestPath[shortestVertex] = shortestDist\n",
    "                # check if this is one of the vertices that we are looking for \n",
    "                if shortestVertex in destVertices:\n",
    "                    print(\"dist to \",shortestVertex,\" is:\", distToV)\n",
    "        \n"
   ]
  },
  {
   "cell_type": "code",
   "execution_count": 33,
   "metadata": {
    "collapsed": false
   },
   "outputs": [],
   "source": [
    "dijkstra = Dijkstra('small_test.txt')"
   ]
  },
  {
   "cell_type": "code",
   "execution_count": 34,
   "metadata": {
    "collapsed": false
   },
   "outputs": [
    {
     "data": {
      "text/plain": [
       "{1: {2: 1, 4: 4}, 2: {3: 2}, 3: {4: 3}, 4: {}}"
      ]
     },
     "execution_count": 34,
     "metadata": {},
     "output_type": "execute_result"
    }
   ],
   "source": [
    "dijkstra.graphs"
   ]
  },
  {
   "cell_type": "code",
   "execution_count": 35,
   "metadata": {
    "collapsed": false
   },
   "outputs": [
    {
     "name": "stdout",
     "output_type": "stream",
     "text": [
      "dist to  4  is: 6\n"
     ]
    }
   ],
   "source": [
    "dijkstra.findShortestPath([4])"
   ]
  },
  {
   "cell_type": "code",
   "execution_count": null,
   "metadata": {
    "collapsed": true
   },
   "outputs": [],
   "source": []
  }
 ],
 "metadata": {
  "anaconda-cloud": {},
  "kernelspec": {
   "display_name": "Python [conda env:aind]",
   "language": "python",
   "name": "conda-env-aind-py"
  },
  "language_info": {
   "codemirror_mode": {
    "name": "ipython",
    "version": 3
   },
   "file_extension": ".py",
   "mimetype": "text/x-python",
   "name": "python",
   "nbconvert_exporter": "python",
   "pygments_lexer": "ipython3",
   "version": "3.6.0"
  }
 },
 "nbformat": 4,
 "nbformat_minor": 1
}
